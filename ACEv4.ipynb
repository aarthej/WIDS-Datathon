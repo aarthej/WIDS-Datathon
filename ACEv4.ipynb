{
 "cells": [
  {
   "cell_type": "markdown",
   "metadata": {},
   "source": [
    "# Women in Data Science Datathon 2020\n",
    "## Contributors:\n",
    "1. Aarthe Jayaprakash\n",
    "2. Chaitanya Chaphalkar\n",
    "3. Eashani Deorukhkar"
   ]
  },
  {
   "cell_type": "markdown",
   "metadata": {},
   "source": [
    "Importing environment variables and dataset.\n",
    "Dataset: https://www.kaggle.com/c/17807/download-all"
   ]
  },
  {
   "cell_type": "code",
   "execution_count": 1,
   "metadata": {},
   "outputs": [],
   "source": [
    "import numpy as np\n",
    "import lightgbm as lgb\n",
    "import re\n",
    "from sklearn.preprocessing import StandardScaler, OneHotEncoder, LabelEncoder\n",
    "import pickle\n",
    "from sklearn.metrics import roc_auc_score\n",
    "from sklearn.model_selection import KFold\n",
    "from xgboost import XGBClassifier\n",
    "from sklearn.metrics import roc_auc_score\n",
    "from sklearn.model_selection import train_test_split\n",
    "from sklearn.model_selection import StratifiedKFold, KFold\n",
    "from sklearn.model_selection import train_test_split, GridSearchCV, RandomizedSearchCV\n",
    "from sklearn.metrics import accuracy_score\n",
    "from sklearn.utils import resample\n",
    "import pandas as pd\n",
    "import os\n",
    "import time\n",
    "from scipy.stats import randint as sp_randint\n",
    "from sklearn.metrics import (confusion_matrix, precision_recall_curve, auc,\n",
    "                             roc_curve, recall_score, classification_report, f1_score,\n",
    "                             precision_recall_fscore_support, roc_auc_score)\n",
    "from sklearn.model_selection import StratifiedKFold, GroupKFold\n",
    "import matplotlib.pyplot as plt\n",
    "import seaborn as sns\n",
    "from sklearn import metrics\n",
    "from sklearn.model_selection import cross_val_score\n",
    "%matplotlib inline "
   ]
  },
  {
   "cell_type": "code",
   "execution_count": 2,
   "metadata": {},
   "outputs": [],
   "source": [
    "data = pd.read_csv(\"training_v2.csv\")\n",
    "test = pd.read_csv(\"unlabeled.csv\")"
   ]
  },
  {
   "cell_type": "code",
   "execution_count": 3,
   "metadata": {},
   "outputs": [
    {
     "data": {
      "text/plain": [
       "0    83798\n",
       "1     7915\n",
       "Name: hospital_death, dtype: int64"
      ]
     },
     "execution_count": 3,
     "metadata": {},
     "output_type": "execute_result"
    }
   ],
   "source": [
    "data.hospital_death.value_counts()"
   ]
  },
  {
   "cell_type": "markdown",
   "metadata": {},
   "source": [
    "The data is skewed by a huge ratio. It needs to be upsampled for a fair analysis."
   ]
  },
  {
   "cell_type": "markdown",
   "metadata": {},
   "source": [
    "### Upsampling the data to remove imbalance in the target column."
   ]
  },
  {
   "cell_type": "code",
   "execution_count": 4,
   "metadata": {},
   "outputs": [],
   "source": [
    "df_majority = data[data.hospital_death==0]\n",
    "df_minority = data[data.hospital_death==1]"
   ]
  },
  {
   "cell_type": "code",
   "execution_count": 5,
   "metadata": {},
   "outputs": [
    {
     "data": {
      "text/plain": [
       "1    83798\n",
       "0    83798\n",
       "Name: hospital_death, dtype: int64"
      ]
     },
     "execution_count": 5,
     "metadata": {},
     "output_type": "execute_result"
    }
   ],
   "source": [
    "df_minority_upsampled = resample(df_minority, \n",
    "                                 replace=True,     # sample with replacement\n",
    "                                 n_samples=83798,    # to match majority class\n",
    "                                 random_state= 303) # reproducible results\n",
    " \n",
    "# Combine majority class with upsampled minority class\n",
    "df_upsampled = pd.concat([df_majority, df_minority_upsampled])\n",
    " \n",
    "# Display new class counts\n",
    "df_upsampled.hospital_death.value_counts()"
   ]
  },
  {
   "cell_type": "code",
   "execution_count": 6,
   "metadata": {},
   "outputs": [],
   "source": [
    "data=df_upsampled"
   ]
  },
  {
   "cell_type": "markdown",
   "metadata": {},
   "source": [
    "### Setting the target column and looking at column names."
   ]
  },
  {
   "cell_type": "code",
   "execution_count": 7,
   "metadata": {},
   "outputs": [],
   "source": [
    "y = data['hospital_death']\n",
    "X = data\n",
    "X = X.drop(['hospital_death'], axis=1)"
   ]
  },
  {
   "cell_type": "code",
   "execution_count": 8,
   "metadata": {},
   "outputs": [
    {
     "data": {
      "text/plain": [
       "Index(['encounter_id', 'patient_id', 'hospital_id', 'age', 'bmi',\n",
       "       'elective_surgery', 'ethnicity', 'gender', 'height',\n",
       "       'hospital_admit_source',\n",
       "       ...\n",
       "       'aids', 'cirrhosis', 'diabetes_mellitus', 'hepatic_failure',\n",
       "       'immunosuppression', 'leukemia', 'lymphoma',\n",
       "       'solid_tumor_with_metastasis', 'apache_3j_bodysystem',\n",
       "       'apache_2_bodysystem'],\n",
       "      dtype='object', length=185)"
      ]
     },
     "execution_count": 8,
     "metadata": {},
     "output_type": "execute_result"
    }
   ],
   "source": [
    "test = test.drop(['hospital_death'], axis=1)\n",
    "test.columns"
   ]
  },
  {
   "cell_type": "code",
   "execution_count": 9,
   "metadata": {},
   "outputs": [
    {
     "data": {
      "text/plain": [
       "Index(['encounter_id', 'patient_id', 'hospital_id', 'age', 'bmi',\n",
       "       'elective_surgery', 'ethnicity', 'gender', 'height',\n",
       "       'hospital_admit_source',\n",
       "       ...\n",
       "       'aids', 'cirrhosis', 'diabetes_mellitus', 'hepatic_failure',\n",
       "       'immunosuppression', 'leukemia', 'lymphoma',\n",
       "       'solid_tumor_with_metastasis', 'apache_3j_bodysystem',\n",
       "       'apache_2_bodysystem'],\n",
       "      dtype='object', length=185)"
      ]
     },
     "execution_count": 9,
     "metadata": {},
     "output_type": "execute_result"
    }
   ],
   "source": [
    "X.head()\n",
    "X.columns"
   ]
  },
  {
   "cell_type": "markdown",
   "metadata": {},
   "source": [
    "## Data Cleaning"
   ]
  },
  {
   "cell_type": "markdown",
   "metadata": {},
   "source": [
    "### Removing columns that have a high degree of correlation with one another (>0.9)"
   ]
  },
  {
   "cell_type": "code",
   "execution_count": 10,
   "metadata": {},
   "outputs": [
    {
     "data": {
      "text/html": [
       "<div>\n",
       "<style scoped>\n",
       "    .dataframe tbody tr th:only-of-type {\n",
       "        vertical-align: middle;\n",
       "    }\n",
       "\n",
       "    .dataframe tbody tr th {\n",
       "        vertical-align: top;\n",
       "    }\n",
       "\n",
       "    .dataframe thead th {\n",
       "        text-align: right;\n",
       "    }\n",
       "</style>\n",
       "<table border=\"1\" class=\"dataframe\">\n",
       "  <thead>\n",
       "    <tr style=\"text-align: right;\">\n",
       "      <th></th>\n",
       "      <th>encounter_id</th>\n",
       "      <th>patient_id</th>\n",
       "      <th>hospital_id</th>\n",
       "      <th>age</th>\n",
       "      <th>bmi</th>\n",
       "      <th>elective_surgery</th>\n",
       "      <th>height</th>\n",
       "      <th>icu_id</th>\n",
       "      <th>pre_icu_los_days</th>\n",
       "      <th>readmission_status</th>\n",
       "      <th>...</th>\n",
       "      <th>apache_4a_hospital_death_prob</th>\n",
       "      <th>apache_4a_icu_death_prob</th>\n",
       "      <th>aids</th>\n",
       "      <th>cirrhosis</th>\n",
       "      <th>diabetes_mellitus</th>\n",
       "      <th>hepatic_failure</th>\n",
       "      <th>immunosuppression</th>\n",
       "      <th>leukemia</th>\n",
       "      <th>lymphoma</th>\n",
       "      <th>solid_tumor_with_metastasis</th>\n",
       "    </tr>\n",
       "  </thead>\n",
       "  <tbody>\n",
       "    <tr>\n",
       "      <th>encounter_id</th>\n",
       "      <td>1.000000</td>\n",
       "      <td>0.015342</td>\n",
       "      <td>0.007626</td>\n",
       "      <td>0.003655</td>\n",
       "      <td>0.003362</td>\n",
       "      <td>0.006607</td>\n",
       "      <td>0.008610</td>\n",
       "      <td>0.005902</td>\n",
       "      <td>0.003817</td>\n",
       "      <td>NaN</td>\n",
       "      <td>...</td>\n",
       "      <td>0.002492</td>\n",
       "      <td>0.004714</td>\n",
       "      <td>0.002806</td>\n",
       "      <td>0.010884</td>\n",
       "      <td>0.010205</td>\n",
       "      <td>0.007714</td>\n",
       "      <td>0.001090</td>\n",
       "      <td>0.002507</td>\n",
       "      <td>0.004454</td>\n",
       "      <td>0.004721</td>\n",
       "    </tr>\n",
       "    <tr>\n",
       "      <th>patient_id</th>\n",
       "      <td>0.015342</td>\n",
       "      <td>1.000000</td>\n",
       "      <td>0.007140</td>\n",
       "      <td>0.004471</td>\n",
       "      <td>0.007138</td>\n",
       "      <td>0.001852</td>\n",
       "      <td>0.004753</td>\n",
       "      <td>0.007158</td>\n",
       "      <td>0.021116</td>\n",
       "      <td>NaN</td>\n",
       "      <td>...</td>\n",
       "      <td>0.005151</td>\n",
       "      <td>0.006286</td>\n",
       "      <td>0.002369</td>\n",
       "      <td>0.004249</td>\n",
       "      <td>0.000116</td>\n",
       "      <td>0.001577</td>\n",
       "      <td>0.005193</td>\n",
       "      <td>0.009341</td>\n",
       "      <td>0.000951</td>\n",
       "      <td>0.006784</td>\n",
       "    </tr>\n",
       "    <tr>\n",
       "      <th>hospital_id</th>\n",
       "      <td>0.007626</td>\n",
       "      <td>0.007140</td>\n",
       "      <td>1.000000</td>\n",
       "      <td>0.013256</td>\n",
       "      <td>0.027932</td>\n",
       "      <td>0.041729</td>\n",
       "      <td>0.020469</td>\n",
       "      <td>0.011263</td>\n",
       "      <td>0.007547</td>\n",
       "      <td>NaN</td>\n",
       "      <td>...</td>\n",
       "      <td>0.015605</td>\n",
       "      <td>0.005726</td>\n",
       "      <td>0.013256</td>\n",
       "      <td>0.001238</td>\n",
       "      <td>0.023915</td>\n",
       "      <td>0.002574</td>\n",
       "      <td>0.006815</td>\n",
       "      <td>0.000989</td>\n",
       "      <td>0.003505</td>\n",
       "      <td>0.004299</td>\n",
       "    </tr>\n",
       "    <tr>\n",
       "      <th>age</th>\n",
       "      <td>0.003655</td>\n",
       "      <td>0.004471</td>\n",
       "      <td>0.013256</td>\n",
       "      <td>1.000000</td>\n",
       "      <td>0.120479</td>\n",
       "      <td>0.021266</td>\n",
       "      <td>0.110775</td>\n",
       "      <td>0.020419</td>\n",
       "      <td>0.046786</td>\n",
       "      <td>NaN</td>\n",
       "      <td>...</td>\n",
       "      <td>0.137545</td>\n",
       "      <td>0.071400</td>\n",
       "      <td>0.038805</td>\n",
       "      <td>0.053937</td>\n",
       "      <td>0.062828</td>\n",
       "      <td>0.052939</td>\n",
       "      <td>0.007532</td>\n",
       "      <td>0.024258</td>\n",
       "      <td>0.020561</td>\n",
       "      <td>0.003582</td>\n",
       "    </tr>\n",
       "    <tr>\n",
       "      <th>bmi</th>\n",
       "      <td>0.003362</td>\n",
       "      <td>0.007138</td>\n",
       "      <td>0.027932</td>\n",
       "      <td>0.120479</td>\n",
       "      <td>1.000000</td>\n",
       "      <td>0.015265</td>\n",
       "      <td>0.056373</td>\n",
       "      <td>0.005975</td>\n",
       "      <td>0.003669</td>\n",
       "      <td>NaN</td>\n",
       "      <td>...</td>\n",
       "      <td>0.040753</td>\n",
       "      <td>0.016057</td>\n",
       "      <td>0.024159</td>\n",
       "      <td>0.011689</td>\n",
       "      <td>0.174443</td>\n",
       "      <td>0.015488</td>\n",
       "      <td>0.040154</td>\n",
       "      <td>0.015329</td>\n",
       "      <td>0.021958</td>\n",
       "      <td>0.054457</td>\n",
       "    </tr>\n",
       "  </tbody>\n",
       "</table>\n",
       "<p>5 rows × 177 columns</p>\n",
       "</div>"
      ],
      "text/plain": [
       "              encounter_id  patient_id  hospital_id       age       bmi  \\\n",
       "encounter_id      1.000000    0.015342     0.007626  0.003655  0.003362   \n",
       "patient_id        0.015342    1.000000     0.007140  0.004471  0.007138   \n",
       "hospital_id       0.007626    0.007140     1.000000  0.013256  0.027932   \n",
       "age               0.003655    0.004471     0.013256  1.000000  0.120479   \n",
       "bmi               0.003362    0.007138     0.027932  0.120479  1.000000   \n",
       "\n",
       "              elective_surgery    height    icu_id  pre_icu_los_days  \\\n",
       "encounter_id          0.006607  0.008610  0.005902          0.003817   \n",
       "patient_id            0.001852  0.004753  0.007158          0.021116   \n",
       "hospital_id           0.041729  0.020469  0.011263          0.007547   \n",
       "age                   0.021266  0.110775  0.020419          0.046786   \n",
       "bmi                   0.015265  0.056373  0.005975          0.003669   \n",
       "\n",
       "              readmission_status  ...  apache_4a_hospital_death_prob  \\\n",
       "encounter_id                 NaN  ...                       0.002492   \n",
       "patient_id                   NaN  ...                       0.005151   \n",
       "hospital_id                  NaN  ...                       0.015605   \n",
       "age                          NaN  ...                       0.137545   \n",
       "bmi                          NaN  ...                       0.040753   \n",
       "\n",
       "              apache_4a_icu_death_prob      aids  cirrhosis  \\\n",
       "encounter_id                  0.004714  0.002806   0.010884   \n",
       "patient_id                    0.006286  0.002369   0.004249   \n",
       "hospital_id                   0.005726  0.013256   0.001238   \n",
       "age                           0.071400  0.038805   0.053937   \n",
       "bmi                           0.016057  0.024159   0.011689   \n",
       "\n",
       "              diabetes_mellitus  hepatic_failure  immunosuppression  leukemia  \\\n",
       "encounter_id           0.010205         0.007714           0.001090  0.002507   \n",
       "patient_id             0.000116         0.001577           0.005193  0.009341   \n",
       "hospital_id            0.023915         0.002574           0.006815  0.000989   \n",
       "age                    0.062828         0.052939           0.007532  0.024258   \n",
       "bmi                    0.174443         0.015488           0.040154  0.015329   \n",
       "\n",
       "              lymphoma  solid_tumor_with_metastasis  \n",
       "encounter_id  0.004454                     0.004721  \n",
       "patient_id    0.000951                     0.006784  \n",
       "hospital_id   0.003505                     0.004299  \n",
       "age           0.020561                     0.003582  \n",
       "bmi           0.021958                     0.054457  \n",
       "\n",
       "[5 rows x 177 columns]"
      ]
     },
     "execution_count": 10,
     "metadata": {},
     "output_type": "execute_result"
    }
   ],
   "source": [
    "# threshold for removing correlated variables\n",
    "threshold = 0.9\n",
    "\n",
    "# Absolute value correlation matrix\n",
    "corr_matrix = X.corr().abs()\n",
    "corr_matrix.head()"
   ]
  },
  {
   "cell_type": "code",
   "execution_count": 11,
   "metadata": {},
   "outputs": [
    {
     "name": "stdout",
     "output_type": "stream",
     "text": [
      "['paco2_for_ph_apache', 'd1_diasbp_noninvasive_max', 'd1_diasbp_noninvasive_min', 'd1_mbp_noninvasive_max', 'd1_mbp_noninvasive_min', 'd1_sysbp_noninvasive_max', 'd1_sysbp_noninvasive_min', 'h1_diasbp_noninvasive_max', 'h1_diasbp_noninvasive_min', 'h1_mbp_noninvasive_max', 'h1_mbp_noninvasive_min', 'h1_sysbp_noninvasive_max', 'h1_sysbp_noninvasive_min', 'd1_albumin_max', 'd1_albumin_min', 'd1_bilirubin_max', 'd1_bilirubin_min', 'd1_bun_max', 'd1_bun_min', 'd1_creatinine_max', 'd1_creatinine_min', 'd1_glucose_max', 'd1_hemaglobin_min', 'd1_hematocrit_max', 'd1_hematocrit_min', 'd1_platelets_min', 'd1_wbc_max', 'd1_wbc_min', 'h1_albumin_min', 'h1_bilirubin_max', 'h1_bilirubin_min', 'h1_bun_max', 'h1_bun_min', 'h1_calcium_min', 'h1_creatinine_max', 'h1_creatinine_min', 'h1_glucose_min', 'h1_hco3_min', 'h1_hemaglobin_max', 'h1_hemaglobin_min', 'h1_hematocrit_max', 'h1_hematocrit_min', 'h1_inr_max', 'h1_inr_min', 'h1_lactate_min', 'h1_platelets_max', 'h1_platelets_min', 'h1_potassium_min', 'h1_sodium_min', 'h1_wbc_max', 'h1_wbc_min', 'h1_arterial_pco2_min', 'h1_arterial_ph_min', 'h1_pao2fio2ratio_min', 'apache_4a_icu_death_prob']\n",
      "There are 55 columns to remove.\n"
     ]
    }
   ],
   "source": [
    "# Upper triangle of correlations\n",
    "upper = corr_matrix.where(np.triu(np.ones(corr_matrix.shape), k=1).astype(np.bool))\n",
    "upper.head()\n",
    "\n",
    "# Select columns with correlations above threshold\n",
    "to_drop = [column for column in upper.columns if any(upper[column] > threshold)]\n",
    "print(to_drop)\n",
    "print('There are %d columns to remove.' % (len(to_drop)))\n",
    "#Drop the columns with high correlations\n",
    "X = X.drop(columns = to_drop)\n",
    "test=test.drop(columns=to_drop)"
   ]
  },
  {
   "cell_type": "markdown",
   "metadata": {},
   "source": [
    "## Handling missing values"
   ]
  },
  {
   "cell_type": "markdown",
   "metadata": {},
   "source": [
    "### Identifying columns having more than 75% missing values"
   ]
  },
  {
   "cell_type": "code",
   "execution_count": 12,
   "metadata": {},
   "outputs": [
    {
     "name": "stdout",
     "output_type": "stream",
     "text": [
      "There are 17 columns with more than 75% missing values\n"
     ]
    }
   ],
   "source": [
    "# Train missing values (in percent)\n",
    "train_missing = (X.isnull().sum() / len(X)).sort_values(ascending = False)\n",
    "train_missing.head()\n",
    "train_missing = train_missing.index[train_missing > 0.75]\n",
    "print('There are %d columns with more than 75%% missing values' % len(train_missing))\n",
    "X = X.drop(columns = train_missing)\n",
    "test=test.drop(columns=train_missing)"
   ]
  },
  {
   "cell_type": "code",
   "execution_count": 13,
   "metadata": {},
   "outputs": [],
   "source": [
    "col=list(X.nunique().sort_values().index) \n",
    "l=list(X.nunique().sort_values())\n",
    "col_list = pd.DataFrame({'col': col,'list':l})"
   ]
  },
  {
   "cell_type": "markdown",
   "metadata": {},
   "source": [
    "### Displaying columns along with number of unique values."
   ]
  },
  {
   "cell_type": "code",
   "execution_count": 14,
   "metadata": {},
   "outputs": [
    {
     "name": "stdout",
     "output_type": "stream",
     "text": [
      "                               col   list\n",
      "0               readmission_status      1\n",
      "1                       arf_apache      2\n",
      "2                        cirrhosis      2\n",
      "3                 intubated_apache      2\n",
      "4                diabetes_mellitus      2\n",
      "5            apache_post_operative      2\n",
      "6                gcs_unable_apache      2\n",
      "7                  hepatic_failure      2\n",
      "8                ventilated_apache      2\n",
      "9                 elective_surgery      2\n",
      "10               immunosuppression      2\n",
      "11                        leukemia      2\n",
      "12                        lymphoma      2\n",
      "13     solid_tumor_with_metastasis      2\n",
      "14                          gender      2\n",
      "15                            aids      2\n",
      "16                   icu_stay_type      3\n",
      "17                 gcs_eyes_apache      4\n",
      "18               gcs_verbal_apache      5\n",
      "19                icu_admit_source      5\n",
      "20                gcs_motor_apache      6\n",
      "21                       ethnicity      6\n",
      "22                        icu_type      8\n",
      "23             apache_2_bodysystem     10\n",
      "24            apache_3j_bodysystem     11\n",
      "25           hospital_admit_source     15\n",
      "26                  albumin_apache     35\n",
      "27                     d1_spo2_max     43\n",
      "28              apache_2_diagnosis     44\n",
      "29                  d1_calcium_max     47\n",
      "30                  d1_calcium_min     49\n",
      "31                 h1_resprate_max     50\n",
      "32                 d1_resprate_min     55\n",
      "33                   d1_sodium_max     71\n",
      "34                     h1_spo2_max     72\n",
      "35                             age     74\n",
      "36                 resprate_apache     74\n",
      "37                   d1_diasbp_min     78\n",
      "38                 d1_resprate_max     79\n",
      "39                     fio2_apache     82\n",
      "40          d1_diasbp_invasive_min     85\n",
      "41                 h1_resprate_min     91\n",
      "42                      d1_mbp_min     91\n",
      "43                   h1_diasbp_min     92\n",
      "44                     h1_spo2_min    100\n",
      "45                d1_potassium_max    100\n",
      "46                     d1_spo2_min    101\n",
      "47   apache_4a_hospital_death_prob    101\n",
      "48               d1_hemaglobin_max    105\n",
      "49                      h1_mbp_min    107\n",
      "50                   h1_diasbp_max    107\n",
      "51                h1_heartrate_min    109\n",
      "52                d1_potassium_min    116\n",
      "53                      h1_mbp_max    117\n",
      "54             d1_mbp_invasive_min    118\n",
      "55                   sodium_apache    119\n",
      "56                h1_heartrate_max    119\n",
      "57                d1_heartrate_max    120\n",
      "58                   d1_diasbp_max    120\n",
      "59                    d1_sysbp_min    120\n",
      "60                      d1_mbp_max    125\n",
      "61                   d1_sodium_min    138\n",
      "62                    h1_sysbp_min    142\n",
      "63                    d1_sysbp_max    143\n",
      "64          d1_diasbp_invasive_max    145\n",
      "65                     hospital_id    147\n",
      "66                    h1_sysbp_max    149\n",
      "67               heart_rate_apache    149\n",
      "68                d1_heartrate_min    154\n",
      "69                      map_apache    161\n",
      "70           d1_sysbp_invasive_min    163\n",
      "71                     d1_temp_max    186\n",
      "72                     temp_apache    191\n",
      "73                     d1_temp_min    209\n",
      "74                     d1_hco3_max    223\n",
      "75           d1_sysbp_invasive_max    225\n",
      "76                          icu_id    241\n",
      "77                     d1_hco3_min    255\n",
      "78                  d1_glucose_min    256\n",
      "79             d1_mbp_invasive_max    285\n",
      "80                     h1_temp_max    294\n",
      "81                     h1_temp_min    303\n",
      "82               hematocrit_apache    353\n",
      "83                bilirubin_apache    362\n",
      "84                      d1_inr_min    393\n",
      "85             apache_3j_diagnosis    399\n",
      "86                          height    401\n",
      "87                      bun_apache    476\n",
      "88                      d1_inr_max    481\n",
      "89                  d1_lactate_min    486\n",
      "90              d1_arterial_ph_max    527\n",
      "91                       ph_apache    555\n",
      "92                d1_platelets_max    559\n",
      "93                  glucose_apache    565\n",
      "94                  h1_glucose_max    601\n",
      "95              d1_arterial_ph_min    624\n",
      "96            d1_arterial_pco2_min    674\n",
      "97                    paco2_apache    704\n",
      "98                  d1_lactate_max    704\n",
      "99            d1_arterial_pco2_max    831\n",
      "100              creatinine_apache   1127\n",
      "101            d1_arterial_po2_min   1822\n",
      "102                    pao2_apache   2003\n",
      "103            d1_arterial_po2_max   2428\n",
      "104                     wbc_apache   3075\n",
      "105                         weight   3409\n",
      "106           d1_pao2fio2ratio_min   4990\n",
      "107           d1_pao2fio2ratio_max   5194\n",
      "108               pre_icu_los_days   9757\n",
      "109             urineoutput_apache  24772\n",
      "110                            bmi  34888\n",
      "111                     patient_id  91713\n",
      "112                   encounter_id  91713\n"
     ]
    }
   ],
   "source": [
    "pd.set_option('display.max_rows', col_list.shape[0]+1)\n",
    "print(col_list)"
   ]
  },
  {
   "cell_type": "markdown",
   "metadata": {},
   "source": [
    "### Categorizing columns as single, binary, categorical, IDs and miscellaneous."
   ]
  },
  {
   "cell_type": "markdown",
   "metadata": {},
   "source": [
    "1. If the column has a single unique value it can be removed as it carries no value to our predictions. \n",
    "2. If the column has binary values, missing cells can be replaced with most frequent value(mode).\n",
    "3. If the column is a category(less than 30 unique values), missing values can be replaced with most frequent value(mode).\n",
    "4. If the columns are IDs they need to be excluded from training models.\n",
    "5. All the remaining features were numeric(float64) and are replaced with average(mean) value."
   ]
  },
  {
   "cell_type": "code",
   "execution_count": 15,
   "metadata": {},
   "outputs": [],
   "source": [
    "single=set(col_list['col'][col_list['list']==1])\n",
    "binary=set(col_list['col'][col_list['list']==2])\n",
    "category=set(col_list['col'][(col_list['list']<=30) & (col_list['list']>2)])\n",
    "ids=set(col_list['col'][col_list['list']>90000])\n",
    "misc=set(set(col_list['col'][(col_list['list']>30)& (col_list['list']<=90000)])-set(ids))"
   ]
  },
  {
   "cell_type": "code",
   "execution_count": 16,
   "metadata": {},
   "outputs": [],
   "source": [
    "X=X.drop(columns=single)\n",
    "test=test.drop(columns=single)"
   ]
  },
  {
   "cell_type": "code",
   "execution_count": 17,
   "metadata": {},
   "outputs": [
    {
     "data": {
      "text/plain": [
       "{'encounter_id', 'hospital_id', 'icu_id', 'patient_id'}"
      ]
     },
     "execution_count": 17,
     "metadata": {},
     "output_type": "execute_result"
    }
   ],
   "source": [
    "ids.add('hospital_id')\n",
    "ids.add('icu_id')\n",
    "ids"
   ]
  },
  {
   "cell_type": "code",
   "execution_count": 18,
   "metadata": {},
   "outputs": [],
   "source": [
    "misc.remove('hospital_id')\n",
    "misc.remove('icu_id')"
   ]
  },
  {
   "cell_type": "markdown",
   "metadata": {},
   "source": [
    "Filling missing values with appropriate replacements."
   ]
  },
  {
   "cell_type": "code",
   "execution_count": 19,
   "metadata": {},
   "outputs": [],
   "source": [
    "for col in binary:\n",
    "    X[col].fillna(X[col].mode()[0], inplace=True)\n",
    "    test[col].fillna(test[col].mode()[0], inplace=True)"
   ]
  },
  {
   "cell_type": "code",
   "execution_count": 20,
   "metadata": {},
   "outputs": [],
   "source": [
    "for i in X[category]:\n",
    "    X[i].fillna(X[i].mode()[0], inplace=True)\n",
    "    test[i].fillna(X[i].mode()[0], inplace=True)  "
   ]
  },
  {
   "cell_type": "code",
   "execution_count": 21,
   "metadata": {},
   "outputs": [],
   "source": [
    "for col in misc:\n",
    "    X[col].fillna(X[col].mean(), inplace=True)\n",
    "    test[col].fillna(X[col].mean(), inplace=True)"
   ]
  },
  {
   "cell_type": "code",
   "execution_count": 22,
   "metadata": {},
   "outputs": [
    {
     "data": {
      "text/plain": [
       "0"
      ]
     },
     "execution_count": 22,
     "metadata": {},
     "output_type": "execute_result"
    }
   ],
   "source": [
    "test.isna().sum().sum()"
   ]
  },
  {
   "cell_type": "markdown",
   "metadata": {},
   "source": [
    "Removing ID columns from X variable."
   ]
  },
  {
   "cell_type": "code",
   "execution_count": 23,
   "metadata": {},
   "outputs": [],
   "source": [
    "X_col=list(X.columns.difference(ids))"
   ]
  },
  {
   "cell_type": "code",
   "execution_count": 24,
   "metadata": {},
   "outputs": [],
   "source": [
    "X = pd.get_dummies(X[X_col])\n",
    "test=pd.get_dummies(test)"
   ]
  },
  {
   "cell_type": "markdown",
   "metadata": {},
   "source": [
    "### Making sure all there are no differences between X and test indexes."
   ]
  },
  {
   "cell_type": "code",
   "execution_count": 25,
   "metadata": {},
   "outputs": [
    {
     "data": {
      "text/plain": [
       "['hospital_admit_source_Observation']"
      ]
     },
     "execution_count": 25,
     "metadata": {},
     "output_type": "execute_result"
    }
   ],
   "source": [
    "train_df=list(set(X.columns).difference(set(test.columns)))\n",
    "df_train=list(set(test.columns).difference(set(X.columns)))\n",
    "train_df"
   ]
  },
  {
   "cell_type": "code",
   "execution_count": 26,
   "metadata": {},
   "outputs": [],
   "source": [
    "X = X.drop(columns = train_df)"
   ]
  },
  {
   "cell_type": "markdown",
   "metadata": {},
   "source": [
    "### Calculating feature importances to remove columns with zero value to the analysis"
   ]
  },
  {
   "cell_type": "code",
   "execution_count": 27,
   "metadata": {},
   "outputs": [],
   "source": [
    "# Initialize an empty array to hold feature importances\n",
    "feature_importances = np.zeros(X.shape[1])"
   ]
  },
  {
   "cell_type": "code",
   "execution_count": 28,
   "metadata": {},
   "outputs": [
    {
     "name": "stdout",
     "output_type": "stream",
     "text": [
      "Training until validation scores don't improve for 100 rounds\n",
      "[200]\tvalid_0's auc: 0.955175\tvalid_0's binary_logloss: 0.280351\n",
      "[400]\tvalid_0's auc: 0.977465\tvalid_0's binary_logloss: 0.209917\n",
      "[600]\tvalid_0's auc: 0.986838\tvalid_0's binary_logloss: 0.165247\n",
      "[800]\tvalid_0's auc: 0.991365\tvalid_0's binary_logloss: 0.134865\n",
      "[1000]\tvalid_0's auc: 0.993973\tvalid_0's binary_logloss: 0.112442\n",
      "[1200]\tvalid_0's auc: 0.995322\tvalid_0's binary_logloss: 0.0958812\n",
      "[1400]\tvalid_0's auc: 0.99628\tvalid_0's binary_logloss: 0.0838154\n",
      "[1600]\tvalid_0's auc: 0.996799\tvalid_0's binary_logloss: 0.0748834\n",
      "[1800]\tvalid_0's auc: 0.99717\tvalid_0's binary_logloss: 0.0677781\n",
      "[2000]\tvalid_0's auc: 0.9975\tvalid_0's binary_logloss: 0.0622224\n",
      "[2200]\tvalid_0's auc: 0.997722\tvalid_0's binary_logloss: 0.0580422\n",
      "[2400]\tvalid_0's auc: 0.99794\tvalid_0's binary_logloss: 0.0547563\n",
      "[2600]\tvalid_0's auc: 0.998104\tvalid_0's binary_logloss: 0.0522396\n",
      "[2800]\tvalid_0's auc: 0.998204\tvalid_0's binary_logloss: 0.0504159\n",
      "[3000]\tvalid_0's auc: 0.998327\tvalid_0's binary_logloss: 0.0489539\n",
      "[3200]\tvalid_0's auc: 0.998498\tvalid_0's binary_logloss: 0.0474874\n",
      "[3400]\tvalid_0's auc: 0.998535\tvalid_0's binary_logloss: 0.0465331\n",
      "[3600]\tvalid_0's auc: 0.998575\tvalid_0's binary_logloss: 0.0463356\n",
      "Early stopping, best iteration is:\n",
      "[3574]\tvalid_0's auc: 0.99857\tvalid_0's binary_logloss: 0.0461825\n",
      "Training until validation scores don't improve for 100 rounds\n",
      "[200]\tvalid_0's auc: 0.956267\tvalid_0's binary_logloss: 0.279413\n",
      "[400]\tvalid_0's auc: 0.978297\tvalid_0's binary_logloss: 0.209398\n",
      "[600]\tvalid_0's auc: 0.987638\tvalid_0's binary_logloss: 0.165055\n",
      "[800]\tvalid_0's auc: 0.992025\tvalid_0's binary_logloss: 0.135067\n",
      "[1000]\tvalid_0's auc: 0.994313\tvalid_0's binary_logloss: 0.112769\n",
      "[1200]\tvalid_0's auc: 0.995676\tvalid_0's binary_logloss: 0.0966207\n",
      "[1400]\tvalid_0's auc: 0.996486\tvalid_0's binary_logloss: 0.0843117\n",
      "[1600]\tvalid_0's auc: 0.997101\tvalid_0's binary_logloss: 0.0744818\n",
      "[1800]\tvalid_0's auc: 0.997559\tvalid_0's binary_logloss: 0.0671935\n",
      "[2000]\tvalid_0's auc: 0.997939\tvalid_0's binary_logloss: 0.0614549\n",
      "[2200]\tvalid_0's auc: 0.998162\tvalid_0's binary_logloss: 0.0577928\n",
      "[2400]\tvalid_0's auc: 0.998353\tvalid_0's binary_logloss: 0.0545246\n",
      "[2600]\tvalid_0's auc: 0.998519\tvalid_0's binary_logloss: 0.0522152\n",
      "[2800]\tvalid_0's auc: 0.99865\tvalid_0's binary_logloss: 0.0503247\n",
      "[3000]\tvalid_0's auc: 0.998755\tvalid_0's binary_logloss: 0.0489877\n",
      "[3200]\tvalid_0's auc: 0.998854\tvalid_0's binary_logloss: 0.0479881\n",
      "[3400]\tvalid_0's auc: 0.998955\tvalid_0's binary_logloss: 0.0471114\n",
      "[3600]\tvalid_0's auc: 0.999012\tvalid_0's binary_logloss: 0.0464549\n",
      "[3800]\tvalid_0's auc: 0.999079\tvalid_0's binary_logloss: 0.0459683\n",
      "[4000]\tvalid_0's auc: 0.999162\tvalid_0's binary_logloss: 0.04546\n",
      "Early stopping, best iteration is:\n",
      "[4004]\tvalid_0's auc: 0.999166\tvalid_0's binary_logloss: 0.0454342\n",
      "Wall time: 50.2 s\n"
     ]
    }
   ],
   "source": [
    "%%time\n",
    "# Create the model with several hyperparameters\n",
    "model = lgb.LGBMClassifier(objective='binary', boosting_type = 'goss', n_estimators = 10000, class_weight = 'balanced')  \n",
    "\n",
    "for i in range(2):\n",
    "    \n",
    "    # Split into training and validation set\n",
    "    train_features, valid_features, train_y, valid_y = train_test_split(X\n",
    "                                                                        , y, test_size = 0.25, random_state = i)\n",
    "    \n",
    "    # Train using early stopping\n",
    "    model.fit(train_features, train_y, early_stopping_rounds=100, eval_set = [(valid_features, valid_y)],eval_metric = 'auc', verbose = 200)\n",
    "    \n",
    "    # Record the feature importances\n",
    "    feature_importances += model.feature_importances_"
   ]
  },
  {
   "cell_type": "code",
   "execution_count": 29,
   "metadata": {},
   "outputs": [
    {
     "data": {
      "text/html": [
       "<div>\n",
       "<style scoped>\n",
       "    .dataframe tbody tr th:only-of-type {\n",
       "        vertical-align: middle;\n",
       "    }\n",
       "\n",
       "    .dataframe tbody tr th {\n",
       "        vertical-align: top;\n",
       "    }\n",
       "\n",
       "    .dataframe thead th {\n",
       "        text-align: right;\n",
       "    }\n",
       "</style>\n",
       "<table border=\"1\" class=\"dataframe\">\n",
       "  <thead>\n",
       "    <tr style=\"text-align: right;\">\n",
       "      <th></th>\n",
       "      <th>feature</th>\n",
       "      <th>importance</th>\n",
       "    </tr>\n",
       "  </thead>\n",
       "  <tbody>\n",
       "    <tr>\n",
       "      <th>5</th>\n",
       "      <td>apache_4a_hospital_death_prob</td>\n",
       "      <td>2497.5</td>\n",
       "    </tr>\n",
       "    <tr>\n",
       "      <th>91</th>\n",
       "      <td>pre_icu_los_days</td>\n",
       "      <td>2490.0</td>\n",
       "    </tr>\n",
       "    <tr>\n",
       "      <th>41</th>\n",
       "      <td>d1_platelets_max</td>\n",
       "      <td>2325.5</td>\n",
       "    </tr>\n",
       "    <tr>\n",
       "      <th>9</th>\n",
       "      <td>bmi</td>\n",
       "      <td>2150.0</td>\n",
       "    </tr>\n",
       "    <tr>\n",
       "      <th>0</th>\n",
       "      <td>age</td>\n",
       "      <td>2099.5</td>\n",
       "    </tr>\n",
       "  </tbody>\n",
       "</table>\n",
       "</div>"
      ],
      "text/plain": [
       "                          feature  importance\n",
       "5   apache_4a_hospital_death_prob      2497.5\n",
       "91               pre_icu_los_days      2490.0\n",
       "41               d1_platelets_max      2325.5\n",
       "9                             bmi      2150.0\n",
       "0                             age      2099.5"
      ]
     },
     "execution_count": 29,
     "metadata": {},
     "output_type": "execute_result"
    }
   ],
   "source": [
    "# Make sure to average feature importances! \n",
    "feature_importances = feature_importances / 2\n",
    "feature_importances = pd.DataFrame({'feature': list(X.columns), 'importance': feature_importances}).sort_values('importance', ascending = False)\n",
    "feature_importances.head()"
   ]
  },
  {
   "cell_type": "code",
   "execution_count": 30,
   "metadata": {},
   "outputs": [
    {
     "name": "stdout",
     "output_type": "stream",
     "text": [
      "There are 10 features with 0.0 importance\n"
     ]
    }
   ],
   "source": [
    "# Find the features with zero importance\n",
    "zero_features = list(feature_importances[feature_importances['importance'] == 0.0]['feature'])\n",
    "print('There are %d features with 0.0 importance' % len(zero_features))\n",
    "feature_importances.tail()\n",
    "# Drop features with zero importance\n",
    "X.drop(columns = zero_features, inplace=True)\n",
    "test.drop(columns=zero_features,inplace=True)"
   ]
  },
  {
   "cell_type": "markdown",
   "metadata": {},
   "source": [
    "Making sure there is no difference between indexes of X and test frames after removing few columns."
   ]
  },
  {
   "cell_type": "code",
   "execution_count": 31,
   "metadata": {},
   "outputs": [
    {
     "data": {
      "text/plain": [
       "[]"
      ]
     },
     "execution_count": 31,
     "metadata": {},
     "output_type": "execute_result"
    }
   ],
   "source": [
    "train_df=list(set(X.columns).difference(set(test.columns)))\n",
    "df_train=list(set(test.columns).difference(set(X.columns)))\n",
    "train_df"
   ]
  },
  {
   "cell_type": "markdown",
   "metadata": {},
   "source": [
    "### Splitting the X and y variable for modeling."
   ]
  },
  {
   "cell_type": "code",
   "execution_count": 32,
   "metadata": {},
   "outputs": [],
   "source": [
    "X_train, X_test, y_train, y_test = train_test_split(X, y, test_size=0.25, random_state=1)"
   ]
  },
  {
   "cell_type": "markdown",
   "metadata": {},
   "source": [
    "### xgboost model with binary logistic tree. Runtime:16 mins."
   ]
  },
  {
   "cell_type": "code",
   "execution_count": 33,
   "metadata": {},
   "outputs": [
    {
     "name": "stdout",
     "output_type": "stream",
     "text": [
      "Scores: [0.93784421 0.93643406 0.93540328 0.93603462 0.93918211]\n",
      "Mean: 0.9369796557312581\n",
      "Standard Deviation: 0.001361911478161707\n",
      "Wall time: 18min 8s\n"
     ]
    }
   ],
   "source": [
    "%%time\n",
    "xgb3=XGBClassifier(\n",
    "    n_estimators=3000,\n",
    "    objective='binary:logistic',\n",
    "    booster=\"gbtree\",\n",
    "    learning_rate=0.01,\n",
    "    scale_pos_weight=1,\n",
    "    max_depth=4,\n",
    "    min_child_weight=6,\n",
    "    gamma=0,\n",
    "    subsample=0.4,\n",
    "    colsample_bytree=0.8,\n",
    "    reg_alpha=0.08,\n",
    "#         n_jobs=-1\n",
    ")\n",
    "xgb3.fit(X_train, y_train)\n",
    "scores = cross_val_score(xgb3, X_train, y_train, cv=5, scoring='roc_auc')\n",
    "print(\"Scores:\", scores)\n",
    "print(\"Mean:\", scores.mean())\n",
    "print(\"Standard Deviation:\", scores.std())"
   ]
  },
  {
   "cell_type": "code",
   "execution_count": 34,
   "metadata": {},
   "outputs": [],
   "source": [
    "y_pred = xgb3.predict(test[X_train.columns])\n",
    "newdata = pd.DataFrame({'encounter_id': test['encounter_id'],'hospital_death':y_pred})\n",
    "newdata.to_csv('submissionXG.csv', index=False)"
   ]
  },
  {
   "cell_type": "markdown",
   "metadata": {},
   "source": [
    "#### Results in 0.61 AUC after submission."
   ]
  },
  {
   "cell_type": "markdown",
   "metadata": {},
   "source": [
    "### Switching to LightGBM model and hyper parameter tuning with randomsearch."
   ]
  },
  {
   "cell_type": "markdown",
   "metadata": {},
   "source": [
    "#### Initial run with randomized values for 'cat_smooth', min_data_per_group' and 'max_cat_threshold'. Running it multiple times to find reasonable values."
   ]
  },
  {
   "cell_type": "code",
   "execution_count": 35,
   "metadata": {},
   "outputs": [],
   "source": [
    "clf = lgb.LGBMClassifier(silent=True, random_state = 304, metric='roc_auc', n_jobs=4)\n",
    "params ={'cat_smooth' : sp_randint(1, 100), 'min_data_per_group': sp_randint(1,1000), 'max_cat_threshold': sp_randint(1,100)}"
   ]
  },
  {
   "cell_type": "code",
   "execution_count": 36,
   "metadata": {},
   "outputs": [],
   "source": [
    "fit_params={\"early_stopping_rounds\":2, \n",
    "            \"eval_metric\" : 'auc', \n",
    "            \"eval_set\" : [(X_train, y_train),(X_test,y_test)],\n",
    "            'eval_names': ['train','valid'],\n",
    "            'verbose': 300,\n",
    "            'categorical_feature': 'auto'}"
   ]
  },
  {
   "cell_type": "code",
   "execution_count": 37,
   "metadata": {},
   "outputs": [],
   "source": [
    "gs = RandomizedSearchCV( estimator=clf, param_distributions=params, scoring='roc_auc',cv=3, refit=True,random_state=304,verbose=True)"
   ]
  },
  {
   "cell_type": "code",
   "execution_count": 38,
   "metadata": {},
   "outputs": [
    {
     "name": "stdout",
     "output_type": "stream",
     "text": [
      "Fitting 3 folds for each of 10 candidates, totalling 30 fits\n"
     ]
    },
    {
     "name": "stderr",
     "output_type": "stream",
     "text": [
      "[Parallel(n_jobs=1)]: Using backend SequentialBackend with 1 concurrent workers.\n"
     ]
    },
    {
     "name": "stdout",
     "output_type": "stream",
     "text": [
      "Training until validation scores don't improve for 2 rounds\n",
      "Did not meet early stopping. Best iteration is:\n",
      "[100]\ttrain's auc: 0.943806\tvalid's auc: 0.935552\n",
      "Training until validation scores don't improve for 2 rounds\n",
      "Did not meet early stopping. Best iteration is:\n",
      "[100]\ttrain's auc: 0.944643\tvalid's auc: 0.935952\n",
      "Training until validation scores don't improve for 2 rounds\n",
      "Did not meet early stopping. Best iteration is:\n",
      "[100]\ttrain's auc: 0.944234\tvalid's auc: 0.935835\n",
      "Training until validation scores don't improve for 2 rounds\n",
      "Did not meet early stopping. Best iteration is:\n",
      "[100]\ttrain's auc: 0.943806\tvalid's auc: 0.935552\n",
      "Training until validation scores don't improve for 2 rounds\n",
      "Did not meet early stopping. Best iteration is:\n",
      "[100]\ttrain's auc: 0.944643\tvalid's auc: 0.935952\n",
      "Training until validation scores don't improve for 2 rounds\n",
      "Did not meet early stopping. Best iteration is:\n",
      "[100]\ttrain's auc: 0.944234\tvalid's auc: 0.935835\n",
      "Training until validation scores don't improve for 2 rounds\n",
      "Did not meet early stopping. Best iteration is:\n",
      "[100]\ttrain's auc: 0.943806\tvalid's auc: 0.935552\n",
      "Training until validation scores don't improve for 2 rounds\n",
      "Did not meet early stopping. Best iteration is:\n",
      "[100]\ttrain's auc: 0.944643\tvalid's auc: 0.935952\n",
      "Training until validation scores don't improve for 2 rounds\n",
      "Did not meet early stopping. Best iteration is:\n",
      "[100]\ttrain's auc: 0.944234\tvalid's auc: 0.935835\n",
      "Training until validation scores don't improve for 2 rounds\n",
      "Did not meet early stopping. Best iteration is:\n",
      "[100]\ttrain's auc: 0.943806\tvalid's auc: 0.935552\n",
      "Training until validation scores don't improve for 2 rounds\n",
      "Did not meet early stopping. Best iteration is:\n",
      "[100]\ttrain's auc: 0.944643\tvalid's auc: 0.935952\n",
      "Training until validation scores don't improve for 2 rounds\n",
      "Did not meet early stopping. Best iteration is:\n",
      "[100]\ttrain's auc: 0.944234\tvalid's auc: 0.935835\n",
      "Training until validation scores don't improve for 2 rounds\n",
      "Did not meet early stopping. Best iteration is:\n",
      "[100]\ttrain's auc: 0.943806\tvalid's auc: 0.935552\n",
      "Training until validation scores don't improve for 2 rounds\n",
      "Did not meet early stopping. Best iteration is:\n",
      "[100]\ttrain's auc: 0.944643\tvalid's auc: 0.935952\n",
      "Training until validation scores don't improve for 2 rounds\n",
      "Did not meet early stopping. Best iteration is:\n",
      "[100]\ttrain's auc: 0.944234\tvalid's auc: 0.935835\n",
      "Training until validation scores don't improve for 2 rounds\n",
      "Did not meet early stopping. Best iteration is:\n",
      "[100]\ttrain's auc: 0.943806\tvalid's auc: 0.935552\n",
      "Training until validation scores don't improve for 2 rounds\n",
      "Did not meet early stopping. Best iteration is:\n",
      "[100]\ttrain's auc: 0.944643\tvalid's auc: 0.935952\n",
      "Training until validation scores don't improve for 2 rounds\n",
      "Did not meet early stopping. Best iteration is:\n",
      "[100]\ttrain's auc: 0.944234\tvalid's auc: 0.935835\n",
      "Training until validation scores don't improve for 2 rounds\n",
      "Did not meet early stopping. Best iteration is:\n",
      "[100]\ttrain's auc: 0.943806\tvalid's auc: 0.935552\n",
      "Training until validation scores don't improve for 2 rounds\n",
      "Did not meet early stopping. Best iteration is:\n",
      "[100]\ttrain's auc: 0.944643\tvalid's auc: 0.935952\n",
      "Training until validation scores don't improve for 2 rounds\n",
      "Did not meet early stopping. Best iteration is:\n",
      "[100]\ttrain's auc: 0.944234\tvalid's auc: 0.935835\n",
      "Training until validation scores don't improve for 2 rounds\n",
      "Did not meet early stopping. Best iteration is:\n",
      "[100]\ttrain's auc: 0.943806\tvalid's auc: 0.935552\n",
      "Training until validation scores don't improve for 2 rounds\n",
      "Did not meet early stopping. Best iteration is:\n",
      "[100]\ttrain's auc: 0.944643\tvalid's auc: 0.935952\n",
      "Training until validation scores don't improve for 2 rounds\n",
      "Did not meet early stopping. Best iteration is:\n",
      "[100]\ttrain's auc: 0.944234\tvalid's auc: 0.935835\n",
      "Training until validation scores don't improve for 2 rounds\n",
      "Did not meet early stopping. Best iteration is:\n",
      "[100]\ttrain's auc: 0.943806\tvalid's auc: 0.935552\n",
      "Training until validation scores don't improve for 2 rounds\n",
      "Did not meet early stopping. Best iteration is:\n",
      "[100]\ttrain's auc: 0.944643\tvalid's auc: 0.935952\n",
      "Training until validation scores don't improve for 2 rounds\n",
      "Did not meet early stopping. Best iteration is:\n",
      "[100]\ttrain's auc: 0.944234\tvalid's auc: 0.935835\n",
      "Training until validation scores don't improve for 2 rounds\n",
      "Did not meet early stopping. Best iteration is:\n",
      "[100]\ttrain's auc: 0.943806\tvalid's auc: 0.935552\n",
      "Training until validation scores don't improve for 2 rounds\n",
      "Did not meet early stopping. Best iteration is:\n",
      "[100]\ttrain's auc: 0.944643\tvalid's auc: 0.935952\n",
      "Training until validation scores don't improve for 2 rounds\n",
      "Did not meet early stopping. Best iteration is:\n",
      "[100]\ttrain's auc: 0.944234\tvalid's auc: 0.935835\n"
     ]
    },
    {
     "name": "stderr",
     "output_type": "stream",
     "text": [
      "[Parallel(n_jobs=1)]: Done  30 out of  30 | elapsed:  1.7min finished\n"
     ]
    },
    {
     "name": "stdout",
     "output_type": "stream",
     "text": [
      "Training until validation scores don't improve for 2 rounds\n",
      "Did not meet early stopping. Best iteration is:\n",
      "[100]\ttrain's auc: 0.945751\tvalid's auc: 0.937304\n",
      "Best score reached: 0.9355465962753253 with params: {'cat_smooth': 32, 'max_cat_threshold': 75, 'min_data_per_group': 82} \n"
     ]
    }
   ],
   "source": [
    "gs.fit(X_train, y_train, **fit_params)\n",
    "print('Best score reached: {} with params: {} '.format(gs.best_score_, gs.best_params_))"
   ]
  },
  {
   "cell_type": "code",
   "execution_count": 39,
   "metadata": {},
   "outputs": [
    {
     "data": {
      "text/plain": [
       "({'cat_smooth': 32, 'max_cat_threshold': 75, 'min_data_per_group': 82},\n",
       " 0.9355465962753253)"
      ]
     },
     "execution_count": 39,
     "metadata": {},
     "output_type": "execute_result"
    }
   ],
   "source": [
    "gs.best_params_, gs.best_score_"
   ]
  },
  {
   "cell_type": "markdown",
   "metadata": {},
   "source": [
    "#### Based on previous results, finding optimal 'learning_rate' and 'num_iterations'"
   ]
  },
  {
   "cell_type": "code",
   "execution_count": 40,
   "metadata": {},
   "outputs": [],
   "source": [
    "clf2 = lgb.LGBMClassifier(random_state=304, metric = 'roc_auc', cat_smooth = 32, max_cat_threshold = 75, min_data_per_group = 82, n_jobs=-1)"
   ]
  },
  {
   "cell_type": "code",
   "execution_count": 41,
   "metadata": {},
   "outputs": [],
   "source": [
    "params_2 = {'learning_rate': [0.04, 0.05, 0.08, 0.1],   \n",
    "            'num_iterations': [1000, 1200, 1400, 1600]}"
   ]
  },
  {
   "cell_type": "code",
   "execution_count": 42,
   "metadata": {},
   "outputs": [],
   "source": [
    "gs2 = RandomizedSearchCV(estimator=clf2, param_distributions=params_2, scoring='roc_auc',cv=3,refit=True,random_state=304,verbose=True)"
   ]
  },
  {
   "cell_type": "code",
   "execution_count": 43,
   "metadata": {},
   "outputs": [
    {
     "name": "stdout",
     "output_type": "stream",
     "text": [
      "Fitting 3 folds for each of 10 candidates, totalling 30 fits\n"
     ]
    },
    {
     "name": "stderr",
     "output_type": "stream",
     "text": [
      "[Parallel(n_jobs=1)]: Using backend SequentialBackend with 1 concurrent workers.\n",
      "C:\\ProgramData\\Anaconda3\\lib\\site-packages\\lightgbm\\engine.py:148: UserWarning: Found `num_iterations` in params. Will use it instead of argument\n",
      "  warnings.warn(\"Found `{}` in params. Will use it instead of argument\".format(alias))\n"
     ]
    },
    {
     "name": "stdout",
     "output_type": "stream",
     "text": [
      "Training until validation scores don't improve for 2 rounds\n",
      "[300]\ttrain's auc: 0.973123\tvalid's auc: 0.960687\n",
      "[600]\ttrain's auc: 0.990784\tvalid's auc: 0.979357\n",
      "[900]\ttrain's auc: 0.995531\tvalid's auc: 0.987421\n",
      "Early stopping, best iteration is:\n",
      "[924]\ttrain's auc: 0.995735\tvalid's auc: 0.987852\n"
     ]
    },
    {
     "name": "stderr",
     "output_type": "stream",
     "text": [
      "C:\\ProgramData\\Anaconda3\\lib\\site-packages\\lightgbm\\engine.py:148: UserWarning: Found `num_iterations` in params. Will use it instead of argument\n",
      "  warnings.warn(\"Found `{}` in params. Will use it instead of argument\".format(alias))\n"
     ]
    },
    {
     "name": "stdout",
     "output_type": "stream",
     "text": [
      "Training until validation scores don't improve for 2 rounds\n",
      "[300]\ttrain's auc: 0.973699\tvalid's auc: 0.960203\n",
      "[600]\ttrain's auc: 0.991079\tvalid's auc: 0.978942\n",
      "[900]\ttrain's auc: 0.995841\tvalid's auc: 0.986973\n",
      "Early stopping, best iteration is:\n",
      "[1072]\ttrain's auc: 0.997038\tvalid's auc: 0.989753\n"
     ]
    },
    {
     "name": "stderr",
     "output_type": "stream",
     "text": [
      "C:\\ProgramData\\Anaconda3\\lib\\site-packages\\lightgbm\\engine.py:148: UserWarning: Found `num_iterations` in params. Will use it instead of argument\n",
      "  warnings.warn(\"Found `{}` in params. Will use it instead of argument\".format(alias))\n"
     ]
    },
    {
     "name": "stdout",
     "output_type": "stream",
     "text": [
      "Training until validation scores don't improve for 2 rounds\n",
      "[300]\ttrain's auc: 0.973246\tvalid's auc: 0.960471\n",
      "[600]\ttrain's auc: 0.990646\tvalid's auc: 0.978793\n",
      "Early stopping, best iteration is:\n",
      "[844]\ttrain's auc: 0.995193\tvalid's auc: 0.986388\n"
     ]
    },
    {
     "name": "stderr",
     "output_type": "stream",
     "text": [
      "C:\\ProgramData\\Anaconda3\\lib\\site-packages\\lightgbm\\engine.py:148: UserWarning: Found `num_iterations` in params. Will use it instead of argument\n",
      "  warnings.warn(\"Found `{}` in params. Will use it instead of argument\".format(alias))\n"
     ]
    },
    {
     "name": "stdout",
     "output_type": "stream",
     "text": [
      "Training until validation scores don't improve for 2 rounds\n",
      "[300]\ttrain's auc: 0.973123\tvalid's auc: 0.960687\n",
      "[600]\ttrain's auc: 0.990784\tvalid's auc: 0.979357\n",
      "[900]\ttrain's auc: 0.995531\tvalid's auc: 0.987421\n",
      "Early stopping, best iteration is:\n",
      "[924]\ttrain's auc: 0.995735\tvalid's auc: 0.987852\n"
     ]
    },
    {
     "name": "stderr",
     "output_type": "stream",
     "text": [
      "C:\\ProgramData\\Anaconda3\\lib\\site-packages\\lightgbm\\engine.py:148: UserWarning: Found `num_iterations` in params. Will use it instead of argument\n",
      "  warnings.warn(\"Found `{}` in params. Will use it instead of argument\".format(alias))\n"
     ]
    },
    {
     "name": "stdout",
     "output_type": "stream",
     "text": [
      "Training until validation scores don't improve for 2 rounds\n",
      "[300]\ttrain's auc: 0.973699\tvalid's auc: 0.960203\n",
      "[600]\ttrain's auc: 0.991079\tvalid's auc: 0.978942\n",
      "[900]\ttrain's auc: 0.995841\tvalid's auc: 0.986973\n",
      "Early stopping, best iteration is:\n",
      "[1072]\ttrain's auc: 0.997038\tvalid's auc: 0.989753\n"
     ]
    },
    {
     "name": "stderr",
     "output_type": "stream",
     "text": [
      "C:\\ProgramData\\Anaconda3\\lib\\site-packages\\lightgbm\\engine.py:148: UserWarning: Found `num_iterations` in params. Will use it instead of argument\n",
      "  warnings.warn(\"Found `{}` in params. Will use it instead of argument\".format(alias))\n"
     ]
    },
    {
     "name": "stdout",
     "output_type": "stream",
     "text": [
      "Training until validation scores don't improve for 2 rounds\n",
      "[300]\ttrain's auc: 0.973246\tvalid's auc: 0.960471\n",
      "[600]\ttrain's auc: 0.990646\tvalid's auc: 0.978793\n",
      "Early stopping, best iteration is:\n",
      "[844]\ttrain's auc: 0.995193\tvalid's auc: 0.986388\n"
     ]
    },
    {
     "name": "stderr",
     "output_type": "stream",
     "text": [
      "C:\\ProgramData\\Anaconda3\\lib\\site-packages\\lightgbm\\engine.py:148: UserWarning: Found `num_iterations` in params. Will use it instead of argument\n",
      "  warnings.warn(\"Found `{}` in params. Will use it instead of argument\".format(alias))\n"
     ]
    },
    {
     "name": "stdout",
     "output_type": "stream",
     "text": [
      "Training until validation scores don't improve for 2 rounds\n",
      "[300]\ttrain's auc: 0.951034\tvalid's auc: 0.941721\n",
      "[600]\ttrain's auc: 0.973711\tvalid's auc: 0.960795\n",
      "[900]\ttrain's auc: 0.985212\tvalid's auc: 0.972383\n",
      "[1200]\ttrain's auc: 0.990976\tvalid's auc: 0.979699\n",
      "Did not meet early stopping. Best iteration is:\n",
      "[1400]\ttrain's auc: 0.993228\tvalid's auc: 0.983174\n"
     ]
    },
    {
     "name": "stderr",
     "output_type": "stream",
     "text": [
      "C:\\ProgramData\\Anaconda3\\lib\\site-packages\\lightgbm\\engine.py:148: UserWarning: Found `num_iterations` in params. Will use it instead of argument\n",
      "  warnings.warn(\"Found `{}` in params. Will use it instead of argument\".format(alias))\n"
     ]
    },
    {
     "name": "stdout",
     "output_type": "stream",
     "text": [
      "Training until validation scores don't improve for 2 rounds\n",
      "[300]\ttrain's auc: 0.950982\tvalid's auc: 0.941338\n",
      "[600]\ttrain's auc: 0.974214\tvalid's auc: 0.961077\n",
      "[900]\ttrain's auc: 0.985605\tvalid's auc: 0.972439\n",
      "[1200]\ttrain's auc: 0.99126\tvalid's auc: 0.979481\n",
      "Did not meet early stopping. Best iteration is:\n",
      "[1400]\ttrain's auc: 0.993563\tvalid's auc: 0.982997\n"
     ]
    },
    {
     "name": "stderr",
     "output_type": "stream",
     "text": [
      "C:\\ProgramData\\Anaconda3\\lib\\site-packages\\lightgbm\\engine.py:148: UserWarning: Found `num_iterations` in params. Will use it instead of argument\n",
      "  warnings.warn(\"Found `{}` in params. Will use it instead of argument\".format(alias))\n"
     ]
    },
    {
     "name": "stdout",
     "output_type": "stream",
     "text": [
      "Training until validation scores don't improve for 2 rounds\n",
      "[300]\ttrain's auc: 0.951405\tvalid's auc: 0.942109\n",
      "[600]\ttrain's auc: 0.973939\tvalid's auc: 0.961204\n",
      "[900]\ttrain's auc: 0.985232\tvalid's auc: 0.972669\n",
      "[1200]\ttrain's auc: 0.990997\tvalid's auc: 0.979838\n",
      "Did not meet early stopping. Best iteration is:\n",
      "[1400]\ttrain's auc: 0.993324\tvalid's auc: 0.983303\n"
     ]
    },
    {
     "name": "stderr",
     "output_type": "stream",
     "text": [
      "C:\\ProgramData\\Anaconda3\\lib\\site-packages\\lightgbm\\engine.py:148: UserWarning: Found `num_iterations` in params. Will use it instead of argument\n",
      "  warnings.warn(\"Found `{}` in params. Will use it instead of argument\".format(alias))\n"
     ]
    },
    {
     "name": "stdout",
     "output_type": "stream",
     "text": [
      "Training until validation scores don't improve for 2 rounds\n",
      "[300]\ttrain's auc: 0.95786\tvalid's auc: 0.947156\n",
      "[600]\ttrain's auc: 0.980188\tvalid's auc: 0.967003\n",
      "[900]\ttrain's auc: 0.989689\tvalid's auc: 0.977787\n",
      "[1200]\ttrain's auc: 0.993881\tvalid's auc: 0.984198\n",
      "Early stopping, best iteration is:\n",
      "[1402]\ttrain's auc: 0.995468\tvalid's auc: 0.987141\n"
     ]
    },
    {
     "name": "stderr",
     "output_type": "stream",
     "text": [
      "C:\\ProgramData\\Anaconda3\\lib\\site-packages\\lightgbm\\engine.py:148: UserWarning: Found `num_iterations` in params. Will use it instead of argument\n",
      "  warnings.warn(\"Found `{}` in params. Will use it instead of argument\".format(alias))\n"
     ]
    },
    {
     "name": "stdout",
     "output_type": "stream",
     "text": [
      "Training until validation scores don't improve for 2 rounds\n",
      "[300]\ttrain's auc: 0.958466\tvalid's auc: 0.947517\n",
      "[600]\ttrain's auc: 0.9807\tvalid's auc: 0.96734\n",
      "[900]\ttrain's auc: 0.990388\tvalid's auc: 0.97827\n",
      "[1200]\ttrain's auc: 0.994491\tvalid's auc: 0.984604\n",
      "Early stopping, best iteration is:\n",
      "[1447]\ttrain's auc: 0.996207\tvalid's auc: 0.987988\n"
     ]
    },
    {
     "name": "stderr",
     "output_type": "stream",
     "text": [
      "C:\\ProgramData\\Anaconda3\\lib\\site-packages\\lightgbm\\engine.py:148: UserWarning: Found `num_iterations` in params. Will use it instead of argument\n",
      "  warnings.warn(\"Found `{}` in params. Will use it instead of argument\".format(alias))\n"
     ]
    },
    {
     "name": "stdout",
     "output_type": "stream",
     "text": [
      "Training until validation scores don't improve for 2 rounds\n",
      "[300]\ttrain's auc: 0.958494\tvalid's auc: 0.947672\n",
      "[600]\ttrain's auc: 0.980465\tvalid's auc: 0.967058\n",
      "[900]\ttrain's auc: 0.989795\tvalid's auc: 0.977878\n",
      "[1200]\ttrain's auc: 0.993936\tvalid's auc: 0.984161\n",
      "Early stopping, best iteration is:\n",
      "[1396]\ttrain's auc: 0.995489\tvalid's auc: 0.987043\n"
     ]
    },
    {
     "name": "stderr",
     "output_type": "stream",
     "text": [
      "C:\\ProgramData\\Anaconda3\\lib\\site-packages\\lightgbm\\engine.py:148: UserWarning: Found `num_iterations` in params. Will use it instead of argument\n",
      "  warnings.warn(\"Found `{}` in params. Will use it instead of argument\".format(alias))\n"
     ]
    },
    {
     "name": "stdout",
     "output_type": "stream",
     "text": [
      "Training until validation scores don't improve for 2 rounds\n",
      "[300]\ttrain's auc: 0.95786\tvalid's auc: 0.947156\n",
      "[600]\ttrain's auc: 0.980188\tvalid's auc: 0.967003\n",
      "[900]\ttrain's auc: 0.989689\tvalid's auc: 0.977787\n",
      "[1200]\ttrain's auc: 0.993881\tvalid's auc: 0.984198\n",
      "Did not meet early stopping. Best iteration is:\n",
      "[1200]\ttrain's auc: 0.993881\tvalid's auc: 0.984198\n"
     ]
    },
    {
     "name": "stderr",
     "output_type": "stream",
     "text": [
      "C:\\ProgramData\\Anaconda3\\lib\\site-packages\\lightgbm\\engine.py:148: UserWarning: Found `num_iterations` in params. Will use it instead of argument\n",
      "  warnings.warn(\"Found `{}` in params. Will use it instead of argument\".format(alias))\n"
     ]
    },
    {
     "name": "stdout",
     "output_type": "stream",
     "text": [
      "Training until validation scores don't improve for 2 rounds\n",
      "[300]\ttrain's auc: 0.958466\tvalid's auc: 0.947517\n",
      "[600]\ttrain's auc: 0.9807\tvalid's auc: 0.96734\n",
      "[900]\ttrain's auc: 0.990388\tvalid's auc: 0.97827\n",
      "[1200]\ttrain's auc: 0.994491\tvalid's auc: 0.984604\n",
      "Did not meet early stopping. Best iteration is:\n",
      "[1200]\ttrain's auc: 0.994491\tvalid's auc: 0.984604\n"
     ]
    },
    {
     "name": "stderr",
     "output_type": "stream",
     "text": [
      "C:\\ProgramData\\Anaconda3\\lib\\site-packages\\lightgbm\\engine.py:148: UserWarning: Found `num_iterations` in params. Will use it instead of argument\n",
      "  warnings.warn(\"Found `{}` in params. Will use it instead of argument\".format(alias))\n"
     ]
    },
    {
     "name": "stdout",
     "output_type": "stream",
     "text": [
      "Training until validation scores don't improve for 2 rounds\n",
      "[300]\ttrain's auc: 0.958494\tvalid's auc: 0.947672\n",
      "[600]\ttrain's auc: 0.980465\tvalid's auc: 0.967058\n",
      "[900]\ttrain's auc: 0.989795\tvalid's auc: 0.977878\n",
      "[1200]\ttrain's auc: 0.993936\tvalid's auc: 0.984161\n",
      "Did not meet early stopping. Best iteration is:\n",
      "[1200]\ttrain's auc: 0.993936\tvalid's auc: 0.984161\n"
     ]
    },
    {
     "name": "stderr",
     "output_type": "stream",
     "text": [
      "C:\\ProgramData\\Anaconda3\\lib\\site-packages\\lightgbm\\engine.py:148: UserWarning: Found `num_iterations` in params. Will use it instead of argument\n",
      "  warnings.warn(\"Found `{}` in params. Will use it instead of argument\".format(alias))\n"
     ]
    },
    {
     "name": "stdout",
     "output_type": "stream",
     "text": [
      "Training until validation scores don't improve for 2 rounds\n",
      "[300]\ttrain's auc: 0.979657\tvalid's auc: 0.966654\n",
      "[600]\ttrain's auc: 0.993951\tvalid's auc: 0.984239\n",
      "Early stopping, best iteration is:\n",
      "[854]\ttrain's auc: 0.996748\tvalid's auc: 0.990077\n"
     ]
    },
    {
     "name": "stderr",
     "output_type": "stream",
     "text": [
      "C:\\ProgramData\\Anaconda3\\lib\\site-packages\\lightgbm\\engine.py:148: UserWarning: Found `num_iterations` in params. Will use it instead of argument\n",
      "  warnings.warn(\"Found `{}` in params. Will use it instead of argument\".format(alias))\n"
     ]
    },
    {
     "name": "stdout",
     "output_type": "stream",
     "text": [
      "Training until validation scores don't improve for 2 rounds\n",
      "[300]\ttrain's auc: 0.980695\tvalid's auc: 0.966642\n",
      "[600]\ttrain's auc: 0.994301\tvalid's auc: 0.984024\n",
      "Early stopping, best iteration is:\n",
      "[828]\ttrain's auc: 0.996873\tvalid's auc: 0.989365\n"
     ]
    },
    {
     "name": "stderr",
     "output_type": "stream",
     "text": [
      "C:\\ProgramData\\Anaconda3\\lib\\site-packages\\lightgbm\\engine.py:148: UserWarning: Found `num_iterations` in params. Will use it instead of argument\n",
      "  warnings.warn(\"Found `{}` in params. Will use it instead of argument\".format(alias))\n"
     ]
    },
    {
     "name": "stdout",
     "output_type": "stream",
     "text": [
      "Training until validation scores don't improve for 2 rounds\n",
      "[300]\ttrain's auc: 0.980125\tvalid's auc: 0.966913\n",
      "[600]\ttrain's auc: 0.993923\tvalid's auc: 0.983808\n",
      "Early stopping, best iteration is:\n",
      "[731]\ttrain's auc: 0.995916\tvalid's auc: 0.987763\n"
     ]
    },
    {
     "name": "stderr",
     "output_type": "stream",
     "text": [
      "C:\\ProgramData\\Anaconda3\\lib\\site-packages\\lightgbm\\engine.py:148: UserWarning: Found `num_iterations` in params. Will use it instead of argument\n",
      "  warnings.warn(\"Found `{}` in params. Will use it instead of argument\".format(alias))\n"
     ]
    },
    {
     "name": "stdout",
     "output_type": "stream",
     "text": [
      "Training until validation scores don't improve for 2 rounds\n",
      "[300]\ttrain's auc: 0.973123\tvalid's auc: 0.960687\n",
      "[600]\ttrain's auc: 0.990784\tvalid's auc: 0.979357\n",
      "[900]\ttrain's auc: 0.995531\tvalid's auc: 0.987421\n",
      "Early stopping, best iteration is:\n",
      "[924]\ttrain's auc: 0.995735\tvalid's auc: 0.987852\n"
     ]
    },
    {
     "name": "stderr",
     "output_type": "stream",
     "text": [
      "C:\\ProgramData\\Anaconda3\\lib\\site-packages\\lightgbm\\engine.py:148: UserWarning: Found `num_iterations` in params. Will use it instead of argument\n",
      "  warnings.warn(\"Found `{}` in params. Will use it instead of argument\".format(alias))\n"
     ]
    },
    {
     "name": "stdout",
     "output_type": "stream",
     "text": [
      "Training until validation scores don't improve for 2 rounds\n",
      "[300]\ttrain's auc: 0.973699\tvalid's auc: 0.960203\n",
      "[600]\ttrain's auc: 0.991079\tvalid's auc: 0.978942\n",
      "[900]\ttrain's auc: 0.995841\tvalid's auc: 0.986973\n",
      "Did not meet early stopping. Best iteration is:\n",
      "[1000]\ttrain's auc: 0.996615\tvalid's auc: 0.988709\n"
     ]
    },
    {
     "name": "stderr",
     "output_type": "stream",
     "text": [
      "C:\\ProgramData\\Anaconda3\\lib\\site-packages\\lightgbm\\engine.py:148: UserWarning: Found `num_iterations` in params. Will use it instead of argument\n",
      "  warnings.warn(\"Found `{}` in params. Will use it instead of argument\".format(alias))\n"
     ]
    },
    {
     "name": "stdout",
     "output_type": "stream",
     "text": [
      "Training until validation scores don't improve for 2 rounds\n",
      "[300]\ttrain's auc: 0.973246\tvalid's auc: 0.960471\n",
      "[600]\ttrain's auc: 0.990646\tvalid's auc: 0.978793\n",
      "Early stopping, best iteration is:\n",
      "[844]\ttrain's auc: 0.995193\tvalid's auc: 0.986388\n"
     ]
    },
    {
     "name": "stderr",
     "output_type": "stream",
     "text": [
      "C:\\ProgramData\\Anaconda3\\lib\\site-packages\\lightgbm\\engine.py:148: UserWarning: Found `num_iterations` in params. Will use it instead of argument\n",
      "  warnings.warn(\"Found `{}` in params. Will use it instead of argument\".format(alias))\n"
     ]
    },
    {
     "name": "stdout",
     "output_type": "stream",
     "text": [
      "Training until validation scores don't improve for 2 rounds\n",
      "[300]\ttrain's auc: 0.95786\tvalid's auc: 0.947156\n",
      "[600]\ttrain's auc: 0.980188\tvalid's auc: 0.967003\n",
      "[900]\ttrain's auc: 0.989689\tvalid's auc: 0.977787\n",
      "[1200]\ttrain's auc: 0.993881\tvalid's auc: 0.984198\n",
      "Did not meet early stopping. Best iteration is:\n",
      "[1400]\ttrain's auc: 0.995447\tvalid's auc: 0.987108\n"
     ]
    },
    {
     "name": "stderr",
     "output_type": "stream",
     "text": [
      "C:\\ProgramData\\Anaconda3\\lib\\site-packages\\lightgbm\\engine.py:148: UserWarning: Found `num_iterations` in params. Will use it instead of argument\n",
      "  warnings.warn(\"Found `{}` in params. Will use it instead of argument\".format(alias))\n"
     ]
    },
    {
     "name": "stdout",
     "output_type": "stream",
     "text": [
      "Training until validation scores don't improve for 2 rounds\n",
      "[300]\ttrain's auc: 0.958466\tvalid's auc: 0.947517\n",
      "[600]\ttrain's auc: 0.9807\tvalid's auc: 0.96734\n",
      "[900]\ttrain's auc: 0.990388\tvalid's auc: 0.97827\n",
      "[1200]\ttrain's auc: 0.994491\tvalid's auc: 0.984604\n",
      "Did not meet early stopping. Best iteration is:\n",
      "[1400]\ttrain's auc: 0.995941\tvalid's auc: 0.98742\n"
     ]
    },
    {
     "name": "stderr",
     "output_type": "stream",
     "text": [
      "C:\\ProgramData\\Anaconda3\\lib\\site-packages\\lightgbm\\engine.py:148: UserWarning: Found `num_iterations` in params. Will use it instead of argument\n",
      "  warnings.warn(\"Found `{}` in params. Will use it instead of argument\".format(alias))\n"
     ]
    },
    {
     "name": "stdout",
     "output_type": "stream",
     "text": [
      "Training until validation scores don't improve for 2 rounds\n",
      "[300]\ttrain's auc: 0.958494\tvalid's auc: 0.947672\n",
      "[600]\ttrain's auc: 0.980465\tvalid's auc: 0.967058\n",
      "[900]\ttrain's auc: 0.989795\tvalid's auc: 0.977878\n",
      "[1200]\ttrain's auc: 0.993936\tvalid's auc: 0.984161\n",
      "Early stopping, best iteration is:\n",
      "[1396]\ttrain's auc: 0.995489\tvalid's auc: 0.987043\n"
     ]
    },
    {
     "name": "stderr",
     "output_type": "stream",
     "text": [
      "C:\\ProgramData\\Anaconda3\\lib\\site-packages\\lightgbm\\engine.py:148: UserWarning: Found `num_iterations` in params. Will use it instead of argument\n",
      "  warnings.warn(\"Found `{}` in params. Will use it instead of argument\".format(alias))\n"
     ]
    },
    {
     "name": "stdout",
     "output_type": "stream",
     "text": [
      "Training until validation scores don't improve for 2 rounds\n",
      "[300]\ttrain's auc: 0.979657\tvalid's auc: 0.966654\n",
      "[600]\ttrain's auc: 0.993951\tvalid's auc: 0.984239\n",
      "Early stopping, best iteration is:\n",
      "[854]\ttrain's auc: 0.996748\tvalid's auc: 0.990077\n"
     ]
    },
    {
     "name": "stderr",
     "output_type": "stream",
     "text": [
      "C:\\ProgramData\\Anaconda3\\lib\\site-packages\\lightgbm\\engine.py:148: UserWarning: Found `num_iterations` in params. Will use it instead of argument\n",
      "  warnings.warn(\"Found `{}` in params. Will use it instead of argument\".format(alias))\n"
     ]
    },
    {
     "name": "stdout",
     "output_type": "stream",
     "text": [
      "Training until validation scores don't improve for 2 rounds\n",
      "[300]\ttrain's auc: 0.980695\tvalid's auc: 0.966642\n",
      "[600]\ttrain's auc: 0.994301\tvalid's auc: 0.984024\n",
      "Early stopping, best iteration is:\n",
      "[828]\ttrain's auc: 0.996873\tvalid's auc: 0.989365\n"
     ]
    },
    {
     "name": "stderr",
     "output_type": "stream",
     "text": [
      "C:\\ProgramData\\Anaconda3\\lib\\site-packages\\lightgbm\\engine.py:148: UserWarning: Found `num_iterations` in params. Will use it instead of argument\n",
      "  warnings.warn(\"Found `{}` in params. Will use it instead of argument\".format(alias))\n"
     ]
    },
    {
     "name": "stdout",
     "output_type": "stream",
     "text": [
      "Training until validation scores don't improve for 2 rounds\n",
      "[300]\ttrain's auc: 0.980125\tvalid's auc: 0.966913\n",
      "[600]\ttrain's auc: 0.993923\tvalid's auc: 0.983808\n",
      "Early stopping, best iteration is:\n",
      "[731]\ttrain's auc: 0.995916\tvalid's auc: 0.987763\n"
     ]
    },
    {
     "name": "stderr",
     "output_type": "stream",
     "text": [
      "C:\\ProgramData\\Anaconda3\\lib\\site-packages\\lightgbm\\engine.py:148: UserWarning: Found `num_iterations` in params. Will use it instead of argument\n",
      "  warnings.warn(\"Found `{}` in params. Will use it instead of argument\".format(alias))\n"
     ]
    },
    {
     "name": "stdout",
     "output_type": "stream",
     "text": [
      "Training until validation scores don't improve for 2 rounds\n",
      "[300]\ttrain's auc: 0.95786\tvalid's auc: 0.947156\n",
      "[600]\ttrain's auc: 0.980188\tvalid's auc: 0.967003\n",
      "[900]\ttrain's auc: 0.989689\tvalid's auc: 0.977787\n",
      "Did not meet early stopping. Best iteration is:\n",
      "[1000]\ttrain's auc: 0.991341\tvalid's auc: 0.980153\n"
     ]
    },
    {
     "name": "stderr",
     "output_type": "stream",
     "text": [
      "C:\\ProgramData\\Anaconda3\\lib\\site-packages\\lightgbm\\engine.py:148: UserWarning: Found `num_iterations` in params. Will use it instead of argument\n",
      "  warnings.warn(\"Found `{}` in params. Will use it instead of argument\".format(alias))\n"
     ]
    },
    {
     "name": "stdout",
     "output_type": "stream",
     "text": [
      "Training until validation scores don't improve for 2 rounds\n",
      "[300]\ttrain's auc: 0.958466\tvalid's auc: 0.947517\n",
      "[600]\ttrain's auc: 0.9807\tvalid's auc: 0.96734\n",
      "[900]\ttrain's auc: 0.990388\tvalid's auc: 0.97827\n",
      "Did not meet early stopping. Best iteration is:\n",
      "[1000]\ttrain's auc: 0.992111\tvalid's auc: 0.980658\n"
     ]
    },
    {
     "name": "stderr",
     "output_type": "stream",
     "text": [
      "C:\\ProgramData\\Anaconda3\\lib\\site-packages\\lightgbm\\engine.py:148: UserWarning: Found `num_iterations` in params. Will use it instead of argument\n",
      "  warnings.warn(\"Found `{}` in params. Will use it instead of argument\".format(alias))\n"
     ]
    },
    {
     "name": "stdout",
     "output_type": "stream",
     "text": [
      "Training until validation scores don't improve for 2 rounds\n",
      "[300]\ttrain's auc: 0.958494\tvalid's auc: 0.947672\n",
      "[600]\ttrain's auc: 0.980465\tvalid's auc: 0.967058\n",
      "[900]\ttrain's auc: 0.989795\tvalid's auc: 0.977878\n",
      "Did not meet early stopping. Best iteration is:\n",
      "[1000]\ttrain's auc: 0.991539\tvalid's auc: 0.980279\n"
     ]
    },
    {
     "name": "stderr",
     "output_type": "stream",
     "text": [
      "[Parallel(n_jobs=1)]: Done  30 out of  30 | elapsed:  9.4min finished\n",
      "C:\\ProgramData\\Anaconda3\\lib\\site-packages\\lightgbm\\engine.py:148: UserWarning: Found `num_iterations` in params. Will use it instead of argument\n",
      "  warnings.warn(\"Found `{}` in params. Will use it instead of argument\".format(alias))\n"
     ]
    },
    {
     "name": "stdout",
     "output_type": "stream",
     "text": [
      "Training until validation scores don't improve for 2 rounds\n",
      "[300]\ttrain's auc: 0.983404\tvalid's auc: 0.969095\n",
      "[600]\ttrain's auc: 0.997358\tvalid's auc: 0.986344\n",
      "Early stopping, best iteration is:\n",
      "[841]\ttrain's auc: 0.999482\tvalid's auc: 0.99196\n",
      "Best score reached: 0.9890742216490487 with params: {'num_iterations': 1000, 'learning_rate': 0.1} \n",
      "Wall time: 9min 38s\n"
     ]
    }
   ],
   "source": [
    "%%time\n",
    "gs2.fit(X_train, y_train, **fit_params)\n",
    "print('Best score reached: {} with params: {} '.format(gs2.best_score_, gs2.best_params_))"
   ]
  },
  {
   "cell_type": "code",
   "execution_count": 44,
   "metadata": {},
   "outputs": [
    {
     "data": {
      "text/plain": [
       "({'num_iterations': 1000, 'learning_rate': 0.1}, 0.9890742216490487)"
      ]
     },
     "execution_count": 44,
     "metadata": {},
     "output_type": "execute_result"
    }
   ],
   "source": [
    "gs2.best_params_, gs2.best_score_"
   ]
  },
  {
   "cell_type": "markdown",
   "metadata": {},
   "source": [
    "#### Based on previous results, finding optimal 'max_bin' and 'max_depth' values."
   ]
  },
  {
   "cell_type": "code",
   "execution_count": 45,
   "metadata": {},
   "outputs": [],
   "source": [
    "clf3 = lgb.LGBMClassifier(random_state=304, metric = 'roc_auc', cat_smooth = 32, max_cat_threshold = 75, min_data_per_group = 82, num_iterations=1200, learning_rate=0.08, n_jobs=-1)"
   ]
  },
  {
   "cell_type": "code",
   "execution_count": 46,
   "metadata": {},
   "outputs": [],
   "source": [
    "params_3={\n",
    "    'max_bin': [800, 1000, 1200],\n",
    "    'max_depth': [13, 14, 15]\n",
    "}"
   ]
  },
  {
   "cell_type": "code",
   "execution_count": 47,
   "metadata": {},
   "outputs": [],
   "source": [
    "gs3 = RandomizedSearchCV(estimator=clf3, param_distributions=params_3, scoring='roc_auc',cv=3,refit=True,random_state=304,verbose=True)"
   ]
  },
  {
   "cell_type": "code",
   "execution_count": 48,
   "metadata": {},
   "outputs": [
    {
     "name": "stdout",
     "output_type": "stream",
     "text": [
      "Fitting 3 folds for each of 9 candidates, totalling 27 fits\n"
     ]
    },
    {
     "name": "stderr",
     "output_type": "stream",
     "text": [
      "C:\\ProgramData\\Anaconda3\\lib\\site-packages\\sklearn\\model_selection\\_search.py:266: UserWarning: The total space of parameters 9 is smaller than n_iter=10. Running 9 iterations. For exhaustive searches, use GridSearchCV.\n",
      "  % (grid_size, self.n_iter, grid_size), UserWarning)\n",
      "[Parallel(n_jobs=1)]: Using backend SequentialBackend with 1 concurrent workers.\n",
      "C:\\ProgramData\\Anaconda3\\lib\\site-packages\\lightgbm\\engine.py:148: UserWarning: Found `num_iterations` in params. Will use it instead of argument\n",
      "  warnings.warn(\"Found `{}` in params. Will use it instead of argument\".format(alias))\n"
     ]
    },
    {
     "name": "stdout",
     "output_type": "stream",
     "text": [
      "Training until validation scores don't improve for 2 rounds\n",
      "[300]\ttrain's auc: 0.973973\tvalid's auc: 0.961104\n",
      "[600]\ttrain's auc: 0.991429\tvalid's auc: 0.979732\n",
      "[900]\ttrain's auc: 0.995918\tvalid's auc: 0.987803\n",
      "Early stopping, best iteration is:\n",
      "[921]\ttrain's auc: 0.996097\tvalid's auc: 0.988226\n"
     ]
    },
    {
     "name": "stderr",
     "output_type": "stream",
     "text": [
      "C:\\ProgramData\\Anaconda3\\lib\\site-packages\\lightgbm\\engine.py:148: UserWarning: Found `num_iterations` in params. Will use it instead of argument\n",
      "  warnings.warn(\"Found `{}` in params. Will use it instead of argument\".format(alias))\n"
     ]
    },
    {
     "name": "stdout",
     "output_type": "stream",
     "text": [
      "Training until validation scores don't improve for 2 rounds\n",
      "[300]\ttrain's auc: 0.973475\tvalid's auc: 0.960085\n",
      "[600]\ttrain's auc: 0.990881\tvalid's auc: 0.978458\n",
      "[900]\ttrain's auc: 0.995943\tvalid's auc: 0.987005\n",
      "Early stopping, best iteration is:\n",
      "[982]\ttrain's auc: 0.996536\tvalid's auc: 0.988371\n"
     ]
    },
    {
     "name": "stderr",
     "output_type": "stream",
     "text": [
      "C:\\ProgramData\\Anaconda3\\lib\\site-packages\\lightgbm\\engine.py:148: UserWarning: Found `num_iterations` in params. Will use it instead of argument\n",
      "  warnings.warn(\"Found `{}` in params. Will use it instead of argument\".format(alias))\n"
     ]
    },
    {
     "name": "stdout",
     "output_type": "stream",
     "text": [
      "Training until validation scores don't improve for 2 rounds\n",
      "[300]\ttrain's auc: 0.973301\tvalid's auc: 0.960273\n",
      "[600]\ttrain's auc: 0.990866\tvalid's auc: 0.97926\n",
      "[900]\ttrain's auc: 0.99568\tvalid's auc: 0.987333\n",
      "Early stopping, best iteration is:\n",
      "[1002]\ttrain's auc: 0.996518\tvalid's auc: 0.989184\n"
     ]
    },
    {
     "name": "stderr",
     "output_type": "stream",
     "text": [
      "C:\\ProgramData\\Anaconda3\\lib\\site-packages\\lightgbm\\engine.py:148: UserWarning: Found `num_iterations` in params. Will use it instead of argument\n",
      "  warnings.warn(\"Found `{}` in params. Will use it instead of argument\".format(alias))\n"
     ]
    },
    {
     "name": "stdout",
     "output_type": "stream",
     "text": [
      "Training until validation scores don't improve for 2 rounds\n",
      "[300]\ttrain's auc: 0.973632\tvalid's auc: 0.960873\n",
      "[600]\ttrain's auc: 0.990936\tvalid's auc: 0.979561\n",
      "Early stopping, best iteration is:\n",
      "[706]\ttrain's auc: 0.993343\tvalid's auc: 0.983402\n"
     ]
    },
    {
     "name": "stderr",
     "output_type": "stream",
     "text": [
      "C:\\ProgramData\\Anaconda3\\lib\\site-packages\\lightgbm\\engine.py:148: UserWarning: Found `num_iterations` in params. Will use it instead of argument\n",
      "  warnings.warn(\"Found `{}` in params. Will use it instead of argument\".format(alias))\n"
     ]
    },
    {
     "name": "stdout",
     "output_type": "stream",
     "text": [
      "Training until validation scores don't improve for 2 rounds\n",
      "[300]\ttrain's auc: 0.973892\tvalid's auc: 0.960493\n",
      "[600]\ttrain's auc: 0.991378\tvalid's auc: 0.97931\n",
      "Early stopping, best iteration is:\n",
      "[843]\ttrain's auc: 0.995451\tvalid's auc: 0.986277\n"
     ]
    },
    {
     "name": "stderr",
     "output_type": "stream",
     "text": [
      "C:\\ProgramData\\Anaconda3\\lib\\site-packages\\lightgbm\\engine.py:148: UserWarning: Found `num_iterations` in params. Will use it instead of argument\n",
      "  warnings.warn(\"Found `{}` in params. Will use it instead of argument\".format(alias))\n"
     ]
    },
    {
     "name": "stdout",
     "output_type": "stream",
     "text": [
      "Training until validation scores don't improve for 2 rounds\n",
      "[300]\ttrain's auc: 0.973982\tvalid's auc: 0.960326\n",
      "[600]\ttrain's auc: 0.990904\tvalid's auc: 0.97899\n",
      "[900]\ttrain's auc: 0.995873\tvalid's auc: 0.987565\n",
      "Early stopping, best iteration is:\n",
      "[1050]\ttrain's auc: 0.996899\tvalid's auc: 0.990016\n"
     ]
    },
    {
     "name": "stderr",
     "output_type": "stream",
     "text": [
      "C:\\ProgramData\\Anaconda3\\lib\\site-packages\\lightgbm\\engine.py:148: UserWarning: Found `num_iterations` in params. Will use it instead of argument\n",
      "  warnings.warn(\"Found `{}` in params. Will use it instead of argument\".format(alias))\n"
     ]
    },
    {
     "name": "stdout",
     "output_type": "stream",
     "text": [
      "Training until validation scores don't improve for 2 rounds\n",
      "[300]\ttrain's auc: 0.973234\tvalid's auc: 0.960082\n",
      "[600]\ttrain's auc: 0.990964\tvalid's auc: 0.979481\n",
      "Early stopping, best iteration is:\n",
      "[866]\ttrain's auc: 0.99549\tvalid's auc: 0.987181\n"
     ]
    },
    {
     "name": "stderr",
     "output_type": "stream",
     "text": [
      "C:\\ProgramData\\Anaconda3\\lib\\site-packages\\lightgbm\\engine.py:148: UserWarning: Found `num_iterations` in params. Will use it instead of argument\n",
      "  warnings.warn(\"Found `{}` in params. Will use it instead of argument\".format(alias))\n"
     ]
    },
    {
     "name": "stdout",
     "output_type": "stream",
     "text": [
      "Training until validation scores don't improve for 2 rounds\n",
      "[300]\ttrain's auc: 0.974226\tvalid's auc: 0.960661\n",
      "[600]\ttrain's auc: 0.991384\tvalid's auc: 0.979395\n",
      "[900]\ttrain's auc: 0.995991\tvalid's auc: 0.987511\n",
      "Early stopping, best iteration is:\n",
      "[960]\ttrain's auc: 0.996452\tvalid's auc: 0.988556\n"
     ]
    },
    {
     "name": "stderr",
     "output_type": "stream",
     "text": [
      "C:\\ProgramData\\Anaconda3\\lib\\site-packages\\lightgbm\\engine.py:148: UserWarning: Found `num_iterations` in params. Will use it instead of argument\n",
      "  warnings.warn(\"Found `{}` in params. Will use it instead of argument\".format(alias))\n"
     ]
    },
    {
     "name": "stdout",
     "output_type": "stream",
     "text": [
      "Training until validation scores don't improve for 2 rounds\n",
      "[300]\ttrain's auc: 0.973963\tvalid's auc: 0.960919\n",
      "[600]\ttrain's auc: 0.990964\tvalid's auc: 0.9793\n",
      "[900]\ttrain's auc: 0.995838\tvalid's auc: 0.987712\n",
      "Early stopping, best iteration is:\n",
      "[956]\ttrain's auc: 0.99632\tvalid's auc: 0.988818\n"
     ]
    },
    {
     "name": "stderr",
     "output_type": "stream",
     "text": [
      "C:\\ProgramData\\Anaconda3\\lib\\site-packages\\lightgbm\\engine.py:148: UserWarning: Found `num_iterations` in params. Will use it instead of argument\n",
      "  warnings.warn(\"Found `{}` in params. Will use it instead of argument\".format(alias))\n"
     ]
    },
    {
     "name": "stdout",
     "output_type": "stream",
     "text": [
      "Training until validation scores don't improve for 2 rounds\n",
      "[300]\ttrain's auc: 0.973466\tvalid's auc: 0.960488\n",
      "[600]\ttrain's auc: 0.990831\tvalid's auc: 0.979254\n",
      "[900]\ttrain's auc: 0.995726\tvalid's auc: 0.987518\n",
      "Early stopping, best iteration is:\n",
      "[992]\ttrain's auc: 0.996406\tvalid's auc: 0.989088\n"
     ]
    },
    {
     "name": "stderr",
     "output_type": "stream",
     "text": [
      "C:\\ProgramData\\Anaconda3\\lib\\site-packages\\lightgbm\\engine.py:148: UserWarning: Found `num_iterations` in params. Will use it instead of argument\n",
      "  warnings.warn(\"Found `{}` in params. Will use it instead of argument\".format(alias))\n"
     ]
    },
    {
     "name": "stdout",
     "output_type": "stream",
     "text": [
      "Training until validation scores don't improve for 2 rounds\n",
      "[300]\ttrain's auc: 0.973352\tvalid's auc: 0.960254\n",
      "[600]\ttrain's auc: 0.990875\tvalid's auc: 0.9787\n",
      "[900]\ttrain's auc: 0.995845\tvalid's auc: 0.987137\n",
      "Early stopping, best iteration is:\n",
      "[988]\ttrain's auc: 0.996523\tvalid's auc: 0.98867\n"
     ]
    },
    {
     "name": "stderr",
     "output_type": "stream",
     "text": [
      "C:\\ProgramData\\Anaconda3\\lib\\site-packages\\lightgbm\\engine.py:148: UserWarning: Found `num_iterations` in params. Will use it instead of argument\n",
      "  warnings.warn(\"Found `{}` in params. Will use it instead of argument\".format(alias))\n"
     ]
    },
    {
     "name": "stdout",
     "output_type": "stream",
     "text": [
      "Training until validation scores don't improve for 2 rounds\n",
      "[300]\ttrain's auc: 0.973239\tvalid's auc: 0.960422\n",
      "[600]\ttrain's auc: 0.990737\tvalid's auc: 0.979253\n",
      "[900]\ttrain's auc: 0.995796\tvalid's auc: 0.987707\n",
      "Early stopping, best iteration is:\n",
      "[1096]\ttrain's auc: 0.997123\tvalid's auc: 0.990729\n"
     ]
    },
    {
     "name": "stderr",
     "output_type": "stream",
     "text": [
      "C:\\ProgramData\\Anaconda3\\lib\\site-packages\\lightgbm\\engine.py:148: UserWarning: Found `num_iterations` in params. Will use it instead of argument\n",
      "  warnings.warn(\"Found `{}` in params. Will use it instead of argument\".format(alias))\n"
     ]
    },
    {
     "name": "stdout",
     "output_type": "stream",
     "text": [
      "Training until validation scores don't improve for 2 rounds\n",
      "[300]\ttrain's auc: 0.973511\tvalid's auc: 0.960478\n",
      "[600]\ttrain's auc: 0.990795\tvalid's auc: 0.97928\n",
      "Early stopping, best iteration is:\n",
      "[880]\ttrain's auc: 0.9955\tvalid's auc: 0.987224\n"
     ]
    },
    {
     "name": "stderr",
     "output_type": "stream",
     "text": [
      "C:\\ProgramData\\Anaconda3\\lib\\site-packages\\lightgbm\\engine.py:148: UserWarning: Found `num_iterations` in params. Will use it instead of argument\n",
      "  warnings.warn(\"Found `{}` in params. Will use it instead of argument\".format(alias))\n"
     ]
    },
    {
     "name": "stdout",
     "output_type": "stream",
     "text": [
      "Training until validation scores don't improve for 2 rounds\n",
      "[300]\ttrain's auc: 0.973638\tvalid's auc: 0.959946\n",
      "[600]\ttrain's auc: 0.99091\tvalid's auc: 0.978574\n",
      "[900]\ttrain's auc: 0.995841\tvalid's auc: 0.98694\n",
      "Early stopping, best iteration is:\n",
      "[962]\ttrain's auc: 0.996345\tvalid's auc: 0.988068\n"
     ]
    },
    {
     "name": "stderr",
     "output_type": "stream",
     "text": [
      "C:\\ProgramData\\Anaconda3\\lib\\site-packages\\lightgbm\\engine.py:148: UserWarning: Found `num_iterations` in params. Will use it instead of argument\n",
      "  warnings.warn(\"Found `{}` in params. Will use it instead of argument\".format(alias))\n"
     ]
    },
    {
     "name": "stdout",
     "output_type": "stream",
     "text": [
      "Training until validation scores don't improve for 2 rounds\n",
      "[300]\ttrain's auc: 0.973669\tvalid's auc: 0.960943\n",
      "[600]\ttrain's auc: 0.990786\tvalid's auc: 0.979336\n",
      "Early stopping, best iteration is:\n",
      "[833]\ttrain's auc: 0.995019\tvalid's auc: 0.986037\n"
     ]
    },
    {
     "name": "stderr",
     "output_type": "stream",
     "text": [
      "C:\\ProgramData\\Anaconda3\\lib\\site-packages\\lightgbm\\engine.py:148: UserWarning: Found `num_iterations` in params. Will use it instead of argument\n",
      "  warnings.warn(\"Found `{}` in params. Will use it instead of argument\".format(alias))\n"
     ]
    },
    {
     "name": "stdout",
     "output_type": "stream",
     "text": [
      "Training until validation scores don't improve for 2 rounds\n",
      "[300]\ttrain's auc: 0.973255\tvalid's auc: 0.960177\n",
      "[600]\ttrain's auc: 0.990595\tvalid's auc: 0.979302\n",
      "Early stopping, best iteration is:\n",
      "[792]\ttrain's auc: 0.994197\tvalid's auc: 0.985071\n"
     ]
    },
    {
     "name": "stderr",
     "output_type": "stream",
     "text": [
      "C:\\ProgramData\\Anaconda3\\lib\\site-packages\\lightgbm\\engine.py:148: UserWarning: Found `num_iterations` in params. Will use it instead of argument\n",
      "  warnings.warn(\"Found `{}` in params. Will use it instead of argument\".format(alias))\n"
     ]
    },
    {
     "name": "stdout",
     "output_type": "stream",
     "text": [
      "Training until validation scores don't improve for 2 rounds\n",
      "[300]\ttrain's auc: 0.973528\tvalid's auc: 0.959961\n",
      "[600]\ttrain's auc: 0.990843\tvalid's auc: 0.978761\n",
      "Early stopping, best iteration is:\n",
      "[825]\ttrain's auc: 0.995143\tvalid's auc: 0.985869\n"
     ]
    },
    {
     "name": "stderr",
     "output_type": "stream",
     "text": [
      "C:\\ProgramData\\Anaconda3\\lib\\site-packages\\lightgbm\\engine.py:148: UserWarning: Found `num_iterations` in params. Will use it instead of argument\n",
      "  warnings.warn(\"Found `{}` in params. Will use it instead of argument\".format(alias))\n"
     ]
    },
    {
     "name": "stdout",
     "output_type": "stream",
     "text": [
      "Training until validation scores don't improve for 2 rounds\n",
      "[300]\ttrain's auc: 0.974007\tvalid's auc: 0.960984\n",
      "[600]\ttrain's auc: 0.991061\tvalid's auc: 0.979368\n",
      "Early stopping, best iteration is:\n",
      "[808]\ttrain's auc: 0.994933\tvalid's auc: 0.985656\n"
     ]
    },
    {
     "name": "stderr",
     "output_type": "stream",
     "text": [
      "C:\\ProgramData\\Anaconda3\\lib\\site-packages\\lightgbm\\engine.py:148: UserWarning: Found `num_iterations` in params. Will use it instead of argument\n",
      "  warnings.warn(\"Found `{}` in params. Will use it instead of argument\".format(alias))\n"
     ]
    },
    {
     "name": "stdout",
     "output_type": "stream",
     "text": [
      "Training until validation scores don't improve for 2 rounds\n",
      "[300]\ttrain's auc: 0.973325\tvalid's auc: 0.960495\n",
      "[600]\ttrain's auc: 0.990647\tvalid's auc: 0.978994\n",
      "Early stopping, best iteration is:\n",
      "[871]\ttrain's auc: 0.99527\tvalid's auc: 0.986554\n"
     ]
    },
    {
     "name": "stderr",
     "output_type": "stream",
     "text": [
      "C:\\ProgramData\\Anaconda3\\lib\\site-packages\\lightgbm\\engine.py:148: UserWarning: Found `num_iterations` in params. Will use it instead of argument\n",
      "  warnings.warn(\"Found `{}` in params. Will use it instead of argument\".format(alias))\n"
     ]
    },
    {
     "name": "stdout",
     "output_type": "stream",
     "text": [
      "Training until validation scores don't improve for 2 rounds\n",
      "[300]\ttrain's auc: 0.9738\tvalid's auc: 0.960477\n",
      "[600]\ttrain's auc: 0.991336\tvalid's auc: 0.979598\n",
      "Early stopping, best iteration is:\n",
      "[836]\ttrain's auc: 0.995309\tvalid's auc: 0.986211\n"
     ]
    },
    {
     "name": "stderr",
     "output_type": "stream",
     "text": [
      "C:\\ProgramData\\Anaconda3\\lib\\site-packages\\lightgbm\\engine.py:148: UserWarning: Found `num_iterations` in params. Will use it instead of argument\n",
      "  warnings.warn(\"Found `{}` in params. Will use it instead of argument\".format(alias))\n"
     ]
    },
    {
     "name": "stdout",
     "output_type": "stream",
     "text": [
      "Training until validation scores don't improve for 2 rounds\n",
      "[300]\ttrain's auc: 0.973436\tvalid's auc: 0.960391\n",
      "[600]\ttrain's auc: 0.990575\tvalid's auc: 0.979213\n",
      "[900]\ttrain's auc: 0.995656\tvalid's auc: 0.987372\n",
      "Early stopping, best iteration is:\n",
      "[1013]\ttrain's auc: 0.996528\tvalid's auc: 0.989313\n"
     ]
    },
    {
     "name": "stderr",
     "output_type": "stream",
     "text": [
      "C:\\ProgramData\\Anaconda3\\lib\\site-packages\\lightgbm\\engine.py:148: UserWarning: Found `num_iterations` in params. Will use it instead of argument\n",
      "  warnings.warn(\"Found `{}` in params. Will use it instead of argument\".format(alias))\n"
     ]
    },
    {
     "name": "stdout",
     "output_type": "stream",
     "text": [
      "Training until validation scores don't improve for 2 rounds\n",
      "[300]\ttrain's auc: 0.972826\tvalid's auc: 0.959691\n",
      "[600]\ttrain's auc: 0.990373\tvalid's auc: 0.978766\n",
      "[900]\ttrain's auc: 0.995531\tvalid's auc: 0.987217\n",
      "Early stopping, best iteration is:\n",
      "[1129]\ttrain's auc: 0.997035\tvalid's auc: 0.990877\n"
     ]
    },
    {
     "name": "stderr",
     "output_type": "stream",
     "text": [
      "C:\\ProgramData\\Anaconda3\\lib\\site-packages\\lightgbm\\engine.py:148: UserWarning: Found `num_iterations` in params. Will use it instead of argument\n",
      "  warnings.warn(\"Found `{}` in params. Will use it instead of argument\".format(alias))\n"
     ]
    },
    {
     "name": "stdout",
     "output_type": "stream",
     "text": [
      "Training until validation scores don't improve for 2 rounds\n",
      "[300]\ttrain's auc: 0.973927\tvalid's auc: 0.960326\n",
      "[600]\ttrain's auc: 0.991012\tvalid's auc: 0.978992\n",
      "[900]\ttrain's auc: 0.995982\tvalid's auc: 0.987272\n",
      "Early stopping, best iteration is:\n",
      "[919]\ttrain's auc: 0.996115\tvalid's auc: 0.987554\n"
     ]
    },
    {
     "name": "stderr",
     "output_type": "stream",
     "text": [
      "C:\\ProgramData\\Anaconda3\\lib\\site-packages\\lightgbm\\engine.py:148: UserWarning: Found `num_iterations` in params. Will use it instead of argument\n",
      "  warnings.warn(\"Found `{}` in params. Will use it instead of argument\".format(alias))\n"
     ]
    },
    {
     "name": "stdout",
     "output_type": "stream",
     "text": [
      "Training until validation scores don't improve for 2 rounds\n",
      "[300]\ttrain's auc: 0.973358\tvalid's auc: 0.960484\n",
      "[600]\ttrain's auc: 0.991014\tvalid's auc: 0.979674\n",
      "Early stopping, best iteration is:\n",
      "[622]\ttrain's auc: 0.991623\tvalid's auc: 0.980492\n"
     ]
    },
    {
     "name": "stderr",
     "output_type": "stream",
     "text": [
      "C:\\ProgramData\\Anaconda3\\lib\\site-packages\\lightgbm\\engine.py:148: UserWarning: Found `num_iterations` in params. Will use it instead of argument\n",
      "  warnings.warn(\"Found `{}` in params. Will use it instead of argument\".format(alias))\n"
     ]
    },
    {
     "name": "stdout",
     "output_type": "stream",
     "text": [
      "Training until validation scores don't improve for 2 rounds\n",
      "[300]\ttrain's auc: 0.97382\tvalid's auc: 0.961054\n",
      "[600]\ttrain's auc: 0.990982\tvalid's auc: 0.979289\n",
      "[900]\ttrain's auc: 0.995658\tvalid's auc: 0.987446\n",
      "Early stopping, best iteration is:\n",
      "[920]\ttrain's auc: 0.995808\tvalid's auc: 0.987785\n"
     ]
    },
    {
     "name": "stderr",
     "output_type": "stream",
     "text": [
      "C:\\ProgramData\\Anaconda3\\lib\\site-packages\\lightgbm\\engine.py:148: UserWarning: Found `num_iterations` in params. Will use it instead of argument\n",
      "  warnings.warn(\"Found `{}` in params. Will use it instead of argument\".format(alias))\n"
     ]
    },
    {
     "name": "stdout",
     "output_type": "stream",
     "text": [
      "Training until validation scores don't improve for 2 rounds\n",
      "[300]\ttrain's auc: 0.973453\tvalid's auc: 0.959922\n",
      "[600]\ttrain's auc: 0.991067\tvalid's auc: 0.978568\n",
      "[900]\ttrain's auc: 0.995841\tvalid's auc: 0.98695\n",
      "Early stopping, best iteration is:\n",
      "[926]\ttrain's auc: 0.996064\tvalid's auc: 0.987484\n"
     ]
    },
    {
     "name": "stderr",
     "output_type": "stream",
     "text": [
      "C:\\ProgramData\\Anaconda3\\lib\\site-packages\\lightgbm\\engine.py:148: UserWarning: Found `num_iterations` in params. Will use it instead of argument\n",
      "  warnings.warn(\"Found `{}` in params. Will use it instead of argument\".format(alias))\n"
     ]
    },
    {
     "name": "stdout",
     "output_type": "stream",
     "text": [
      "Training until validation scores don't improve for 2 rounds\n",
      "[300]\ttrain's auc: 0.973775\tvalid's auc: 0.96053\n",
      "[600]\ttrain's auc: 0.990687\tvalid's auc: 0.97908\n",
      "Early stopping, best iteration is:\n",
      "[867]\ttrain's auc: 0.995354\tvalid's auc: 0.986798\n"
     ]
    },
    {
     "name": "stderr",
     "output_type": "stream",
     "text": [
      "[Parallel(n_jobs=1)]: Done  27 out of  27 | elapsed:  8.3min finished\n",
      "C:\\ProgramData\\Anaconda3\\lib\\site-packages\\lightgbm\\engine.py:148: UserWarning: Found `num_iterations` in params. Will use it instead of argument\n",
      "  warnings.warn(\"Found `{}` in params. Will use it instead of argument\".format(alias))\n"
     ]
    },
    {
     "name": "stdout",
     "output_type": "stream",
     "text": [
      "Training until validation scores don't improve for 2 rounds\n",
      "[300]\ttrain's auc: 0.976481\tvalid's auc: 0.96252\n",
      "[600]\ttrain's auc: 0.994454\tvalid's auc: 0.981473\n",
      "[900]\ttrain's auc: 0.998789\tvalid's auc: 0.989581\n",
      "Early stopping, best iteration is:\n",
      "[1191]\ttrain's auc: 0.99978\tvalid's auc: 0.993439\n",
      "Best score reached: 0.989471950269299 with params: {'max_depth': 13, 'max_bin': 1000} \n",
      "Wall time: 8min 49s\n"
     ]
    }
   ],
   "source": [
    "%%time\n",
    "gs3.fit(X_train, y_train, **fit_params)\n",
    "print('Best score reached: {} with params: {} '.format(gs3.best_score_, gs3.best_params_))"
   ]
  },
  {
   "cell_type": "code",
   "execution_count": 49,
   "metadata": {},
   "outputs": [
    {
     "data": {
      "text/plain": [
       "({'max_depth': 13, 'max_bin': 1000}, 0.989471950269299)"
      ]
     },
     "execution_count": 49,
     "metadata": {},
     "output_type": "execute_result"
    }
   ],
   "source": [
    "gs3.best_params_, gs3.best_score_"
   ]
  },
  {
   "cell_type": "markdown",
   "metadata": {},
   "source": [
    "#### Based on previous results finding optimal values for 'reg_alpha' and 'reg_lambda'."
   ]
  },
  {
   "cell_type": "code",
   "execution_count": 50,
   "metadata": {},
   "outputs": [],
   "source": [
    "clf4 = lgb.LGBMClassifier(random_state=304, metric = 'roc_auc', cat_smooth = 32, max_cat_threshold = 75, min_data_per_group = 82, num_iterations=1200, learning_rate=0.08, max_depth=13, max_bin=800, n_jobs=-1)"
   ]
  },
  {
   "cell_type": "code",
   "execution_count": 51,
   "metadata": {},
   "outputs": [],
   "source": [
    "params_4={\n",
    "    'reg_alpha': [0.01, 0.1, 0.15],\n",
    "    'reg_lambda': [15, 20, 25]\n",
    "}"
   ]
  },
  {
   "cell_type": "code",
   "execution_count": 52,
   "metadata": {},
   "outputs": [],
   "source": [
    "gs4 = RandomizedSearchCV(estimator=clf4, param_distributions=params_4, scoring='roc_auc',cv=3,refit=True,random_state=304,verbose=True)"
   ]
  },
  {
   "cell_type": "code",
   "execution_count": 53,
   "metadata": {},
   "outputs": [
    {
     "name": "stdout",
     "output_type": "stream",
     "text": [
      "Fitting 3 folds for each of 9 candidates, totalling 27 fits\n"
     ]
    },
    {
     "name": "stderr",
     "output_type": "stream",
     "text": [
      "C:\\ProgramData\\Anaconda3\\lib\\site-packages\\sklearn\\model_selection\\_search.py:266: UserWarning: The total space of parameters 9 is smaller than n_iter=10. Running 9 iterations. For exhaustive searches, use GridSearchCV.\n",
      "  % (grid_size, self.n_iter, grid_size), UserWarning)\n",
      "[Parallel(n_jobs=1)]: Using backend SequentialBackend with 1 concurrent workers.\n",
      "C:\\ProgramData\\Anaconda3\\lib\\site-packages\\lightgbm\\engine.py:148: UserWarning: Found `num_iterations` in params. Will use it instead of argument\n",
      "  warnings.warn(\"Found `{}` in params. Will use it instead of argument\".format(alias))\n"
     ]
    },
    {
     "name": "stdout",
     "output_type": "stream",
     "text": [
      "Training until validation scores don't improve for 2 rounds\n",
      "[300]\ttrain's auc: 0.967316\tvalid's auc: 0.956606\n",
      "[600]\ttrain's auc: 0.986365\tvalid's auc: 0.974547\n",
      "[900]\ttrain's auc: 0.993131\tvalid's auc: 0.983161\n",
      "[1200]\ttrain's auc: 0.995879\tvalid's auc: 0.987831\n",
      "Did not meet early stopping. Best iteration is:\n",
      "[1200]\ttrain's auc: 0.995879\tvalid's auc: 0.987831\n"
     ]
    },
    {
     "name": "stderr",
     "output_type": "stream",
     "text": [
      "C:\\ProgramData\\Anaconda3\\lib\\site-packages\\lightgbm\\engine.py:148: UserWarning: Found `num_iterations` in params. Will use it instead of argument\n",
      "  warnings.warn(\"Found `{}` in params. Will use it instead of argument\".format(alias))\n"
     ]
    },
    {
     "name": "stdout",
     "output_type": "stream",
     "text": [
      "Training until validation scores don't improve for 2 rounds\n",
      "[300]\ttrain's auc: 0.967477\tvalid's auc: 0.956012\n",
      "[600]\ttrain's auc: 0.986731\tvalid's auc: 0.974435\n",
      "Early stopping, best iteration is:\n",
      "[889]\ttrain's auc: 0.993334\tvalid's auc: 0.982725\n"
     ]
    },
    {
     "name": "stderr",
     "output_type": "stream",
     "text": [
      "C:\\ProgramData\\Anaconda3\\lib\\site-packages\\lightgbm\\engine.py:148: UserWarning: Found `num_iterations` in params. Will use it instead of argument\n",
      "  warnings.warn(\"Found `{}` in params. Will use it instead of argument\".format(alias))\n"
     ]
    },
    {
     "name": "stdout",
     "output_type": "stream",
     "text": [
      "Training until validation scores don't improve for 2 rounds\n",
      "[300]\ttrain's auc: 0.967733\tvalid's auc: 0.956633\n",
      "[600]\ttrain's auc: 0.986597\tvalid's auc: 0.974579\n",
      "[900]\ttrain's auc: 0.993451\tvalid's auc: 0.983275\n",
      "Early stopping, best iteration is:\n",
      "[966]\ttrain's auc: 0.994233\tvalid's auc: 0.984478\n"
     ]
    },
    {
     "name": "stderr",
     "output_type": "stream",
     "text": [
      "C:\\ProgramData\\Anaconda3\\lib\\site-packages\\lightgbm\\engine.py:148: UserWarning: Found `num_iterations` in params. Will use it instead of argument\n",
      "  warnings.warn(\"Found `{}` in params. Will use it instead of argument\".format(alias))\n"
     ]
    },
    {
     "name": "stdout",
     "output_type": "stream",
     "text": [
      "Training until validation scores don't improve for 2 rounds\n",
      "[300]\ttrain's auc: 0.966418\tvalid's auc: 0.955593\n",
      "[600]\ttrain's auc: 0.985233\tvalid's auc: 0.973179\n",
      "[900]\ttrain's auc: 0.992551\tvalid's auc: 0.98182\n",
      "Early stopping, best iteration is:\n",
      "[1168]\ttrain's auc: 0.995302\tvalid's auc: 0.986273\n"
     ]
    },
    {
     "name": "stderr",
     "output_type": "stream",
     "text": [
      "C:\\ProgramData\\Anaconda3\\lib\\site-packages\\lightgbm\\engine.py:148: UserWarning: Found `num_iterations` in params. Will use it instead of argument\n",
      "  warnings.warn(\"Found `{}` in params. Will use it instead of argument\".format(alias))\n"
     ]
    },
    {
     "name": "stdout",
     "output_type": "stream",
     "text": [
      "Training until validation scores don't improve for 2 rounds\n",
      "[300]\ttrain's auc: 0.966027\tvalid's auc: 0.955065\n",
      "[600]\ttrain's auc: 0.985576\tvalid's auc: 0.973454\n",
      "[900]\ttrain's auc: 0.992973\tvalid's auc: 0.982314\n",
      "[1200]\ttrain's auc: 0.995909\tvalid's auc: 0.98707\n",
      "Did not meet early stopping. Best iteration is:\n",
      "[1200]\ttrain's auc: 0.995909\tvalid's auc: 0.98707\n"
     ]
    },
    {
     "name": "stderr",
     "output_type": "stream",
     "text": [
      "C:\\ProgramData\\Anaconda3\\lib\\site-packages\\lightgbm\\engine.py:148: UserWarning: Found `num_iterations` in params. Will use it instead of argument\n",
      "  warnings.warn(\"Found `{}` in params. Will use it instead of argument\".format(alias))\n"
     ]
    },
    {
     "name": "stdout",
     "output_type": "stream",
     "text": [
      "Training until validation scores don't improve for 2 rounds\n",
      "[300]\ttrain's auc: 0.966627\tvalid's auc: 0.955687\n",
      "[600]\ttrain's auc: 0.985512\tvalid's auc: 0.973576\n",
      "[900]\ttrain's auc: 0.992904\tvalid's auc: 0.982523\n",
      "Early stopping, best iteration is:\n",
      "[1095]\ttrain's auc: 0.995102\tvalid's auc: 0.985997\n"
     ]
    },
    {
     "name": "stderr",
     "output_type": "stream",
     "text": [
      "C:\\ProgramData\\Anaconda3\\lib\\site-packages\\lightgbm\\engine.py:148: UserWarning: Found `num_iterations` in params. Will use it instead of argument\n",
      "  warnings.warn(\"Found `{}` in params. Will use it instead of argument\".format(alias))\n"
     ]
    },
    {
     "name": "stdout",
     "output_type": "stream",
     "text": [
      "Training until validation scores don't improve for 2 rounds\n",
      "[300]\ttrain's auc: 0.965218\tvalid's auc: 0.954554\n",
      "[600]\ttrain's auc: 0.984471\tvalid's auc: 0.972442\n",
      "[900]\ttrain's auc: 0.992125\tvalid's auc: 0.981401\n",
      "[1200]\ttrain's auc: 0.995323\tvalid's auc: 0.986359\n",
      "Did not meet early stopping. Best iteration is:\n",
      "[1200]\ttrain's auc: 0.995323\tvalid's auc: 0.986359\n"
     ]
    },
    {
     "name": "stderr",
     "output_type": "stream",
     "text": [
      "C:\\ProgramData\\Anaconda3\\lib\\site-packages\\lightgbm\\engine.py:148: UserWarning: Found `num_iterations` in params. Will use it instead of argument\n",
      "  warnings.warn(\"Found `{}` in params. Will use it instead of argument\".format(alias))\n"
     ]
    },
    {
     "name": "stdout",
     "output_type": "stream",
     "text": [
      "Training until validation scores don't improve for 2 rounds\n",
      "[300]\ttrain's auc: 0.965642\tvalid's auc: 0.954732\n",
      "[600]\ttrain's auc: 0.984677\tvalid's auc: 0.972217\n",
      "[900]\ttrain's auc: 0.992369\tvalid's auc: 0.981051\n",
      "[1200]\ttrain's auc: 0.995532\tvalid's auc: 0.985978\n",
      "Did not meet early stopping. Best iteration is:\n",
      "[1200]\ttrain's auc: 0.995532\tvalid's auc: 0.985978\n"
     ]
    },
    {
     "name": "stderr",
     "output_type": "stream",
     "text": [
      "C:\\ProgramData\\Anaconda3\\lib\\site-packages\\lightgbm\\engine.py:148: UserWarning: Found `num_iterations` in params. Will use it instead of argument\n",
      "  warnings.warn(\"Found `{}` in params. Will use it instead of argument\".format(alias))\n"
     ]
    },
    {
     "name": "stdout",
     "output_type": "stream",
     "text": [
      "Training until validation scores don't improve for 2 rounds\n",
      "[300]\ttrain's auc: 0.965575\tvalid's auc: 0.955042\n",
      "[600]\ttrain's auc: 0.984715\tvalid's auc: 0.972858\n",
      "[900]\ttrain's auc: 0.99239\tvalid's auc: 0.981711\n",
      "[1200]\ttrain's auc: 0.995621\tvalid's auc: 0.986777\n",
      "Did not meet early stopping. Best iteration is:\n",
      "[1200]\ttrain's auc: 0.995621\tvalid's auc: 0.986777\n"
     ]
    },
    {
     "name": "stderr",
     "output_type": "stream",
     "text": [
      "C:\\ProgramData\\Anaconda3\\lib\\site-packages\\lightgbm\\engine.py:148: UserWarning: Found `num_iterations` in params. Will use it instead of argument\n",
      "  warnings.warn(\"Found `{}` in params. Will use it instead of argument\".format(alias))\n"
     ]
    },
    {
     "name": "stdout",
     "output_type": "stream",
     "text": [
      "Training until validation scores don't improve for 2 rounds\n",
      "[300]\ttrain's auc: 0.966899\tvalid's auc: 0.955876\n",
      "[600]\ttrain's auc: 0.98593\tvalid's auc: 0.974016\n",
      "[900]\ttrain's auc: 0.99293\tvalid's auc: 0.98266\n",
      "Early stopping, best iteration is:\n",
      "[1120]\ttrain's auc: 0.995279\tvalid's auc: 0.986544\n"
     ]
    },
    {
     "name": "stderr",
     "output_type": "stream",
     "text": [
      "C:\\ProgramData\\Anaconda3\\lib\\site-packages\\lightgbm\\engine.py:148: UserWarning: Found `num_iterations` in params. Will use it instead of argument\n",
      "  warnings.warn(\"Found `{}` in params. Will use it instead of argument\".format(alias))\n"
     ]
    },
    {
     "name": "stdout",
     "output_type": "stream",
     "text": [
      "Training until validation scores don't improve for 2 rounds\n",
      "[300]\ttrain's auc: 0.966968\tvalid's auc: 0.956036\n",
      "[600]\ttrain's auc: 0.986809\tvalid's auc: 0.974723\n",
      "[900]\ttrain's auc: 0.993748\tvalid's auc: 0.983465\n",
      "Early stopping, best iteration is:\n",
      "[1144]\ttrain's auc: 0.995846\tvalid's auc: 0.987058\n"
     ]
    },
    {
     "name": "stderr",
     "output_type": "stream",
     "text": [
      "C:\\ProgramData\\Anaconda3\\lib\\site-packages\\lightgbm\\engine.py:148: UserWarning: Found `num_iterations` in params. Will use it instead of argument\n",
      "  warnings.warn(\"Found `{}` in params. Will use it instead of argument\".format(alias))\n"
     ]
    },
    {
     "name": "stdout",
     "output_type": "stream",
     "text": [
      "Training until validation scores don't improve for 2 rounds\n",
      "[300]\ttrain's auc: 0.96709\tvalid's auc: 0.955723\n",
      "[600]\ttrain's auc: 0.986587\tvalid's auc: 0.974603\n",
      "[900]\ttrain's auc: 0.993356\tvalid's auc: 0.983261\n",
      "[1200]\ttrain's auc: 0.996054\tvalid's auc: 0.987841\n",
      "Did not meet early stopping. Best iteration is:\n",
      "[1200]\ttrain's auc: 0.996054\tvalid's auc: 0.987841\n"
     ]
    },
    {
     "name": "stderr",
     "output_type": "stream",
     "text": [
      "C:\\ProgramData\\Anaconda3\\lib\\site-packages\\lightgbm\\engine.py:148: UserWarning: Found `num_iterations` in params. Will use it instead of argument\n",
      "  warnings.warn(\"Found `{}` in params. Will use it instead of argument\".format(alias))\n"
     ]
    },
    {
     "name": "stdout",
     "output_type": "stream",
     "text": [
      "Training until validation scores don't improve for 2 rounds\n",
      "[300]\ttrain's auc: 0.966421\tvalid's auc: 0.955776\n",
      "[600]\ttrain's auc: 0.98508\tvalid's auc: 0.973446\n",
      "[900]\ttrain's auc: 0.992509\tvalid's auc: 0.982261\n",
      "[1200]\ttrain's auc: 0.995551\tvalid's auc: 0.987208\n",
      "Did not meet early stopping. Best iteration is:\n",
      "[1200]\ttrain's auc: 0.995551\tvalid's auc: 0.987208\n"
     ]
    },
    {
     "name": "stderr",
     "output_type": "stream",
     "text": [
      "C:\\ProgramData\\Anaconda3\\lib\\site-packages\\lightgbm\\engine.py:148: UserWarning: Found `num_iterations` in params. Will use it instead of argument\n",
      "  warnings.warn(\"Found `{}` in params. Will use it instead of argument\".format(alias))\n"
     ]
    },
    {
     "name": "stdout",
     "output_type": "stream",
     "text": [
      "Training until validation scores don't improve for 2 rounds\n",
      "[300]\ttrain's auc: 0.965877\tvalid's auc: 0.955028\n",
      "[600]\ttrain's auc: 0.985625\tvalid's auc: 0.973432\n",
      "[900]\ttrain's auc: 0.993071\tvalid's auc: 0.982479\n",
      "Early stopping, best iteration is:\n",
      "[1172]\ttrain's auc: 0.995758\tvalid's auc: 0.986755\n"
     ]
    },
    {
     "name": "stderr",
     "output_type": "stream",
     "text": [
      "C:\\ProgramData\\Anaconda3\\lib\\site-packages\\lightgbm\\engine.py:148: UserWarning: Found `num_iterations` in params. Will use it instead of argument\n",
      "  warnings.warn(\"Found `{}` in params. Will use it instead of argument\".format(alias))\n"
     ]
    },
    {
     "name": "stdout",
     "output_type": "stream",
     "text": [
      "Training until validation scores don't improve for 2 rounds\n",
      "[300]\ttrain's auc: 0.966257\tvalid's auc: 0.955617\n",
      "[600]\ttrain's auc: 0.985502\tvalid's auc: 0.973773\n",
      "[900]\ttrain's auc: 0.993019\tvalid's auc: 0.982818\n",
      "[1200]\ttrain's auc: 0.995832\tvalid's auc: 0.987618\n",
      "Did not meet early stopping. Best iteration is:\n",
      "[1200]\ttrain's auc: 0.995832\tvalid's auc: 0.987618\n"
     ]
    },
    {
     "name": "stderr",
     "output_type": "stream",
     "text": [
      "C:\\ProgramData\\Anaconda3\\lib\\site-packages\\lightgbm\\engine.py:148: UserWarning: Found `num_iterations` in params. Will use it instead of argument\n",
      "  warnings.warn(\"Found `{}` in params. Will use it instead of argument\".format(alias))\n"
     ]
    },
    {
     "name": "stdout",
     "output_type": "stream",
     "text": [
      "Training until validation scores don't improve for 2 rounds\n",
      "[300]\ttrain's auc: 0.965173\tvalid's auc: 0.954452\n",
      "[600]\ttrain's auc: 0.984293\tvalid's auc: 0.972448\n",
      "[900]\ttrain's auc: 0.992076\tvalid's auc: 0.981541\n",
      "[1200]\ttrain's auc: 0.995297\tvalid's auc: 0.986578\n",
      "Did not meet early stopping. Best iteration is:\n",
      "[1200]\ttrain's auc: 0.995297\tvalid's auc: 0.986578\n"
     ]
    },
    {
     "name": "stderr",
     "output_type": "stream",
     "text": [
      "C:\\ProgramData\\Anaconda3\\lib\\site-packages\\lightgbm\\engine.py:148: UserWarning: Found `num_iterations` in params. Will use it instead of argument\n",
      "  warnings.warn(\"Found `{}` in params. Will use it instead of argument\".format(alias))\n"
     ]
    },
    {
     "name": "stdout",
     "output_type": "stream",
     "text": [
      "Training until validation scores don't improve for 2 rounds\n",
      "[300]\ttrain's auc: 0.96549\tvalid's auc: 0.954644\n",
      "[600]\ttrain's auc: 0.984639\tvalid's auc: 0.972126\n",
      "[900]\ttrain's auc: 0.992318\tvalid's auc: 0.980944\n",
      "Early stopping, best iteration is:\n",
      "[1157]\ttrain's auc: 0.995204\tvalid's auc: 0.985248\n"
     ]
    },
    {
     "name": "stderr",
     "output_type": "stream",
     "text": [
      "C:\\ProgramData\\Anaconda3\\lib\\site-packages\\lightgbm\\engine.py:148: UserWarning: Found `num_iterations` in params. Will use it instead of argument\n",
      "  warnings.warn(\"Found `{}` in params. Will use it instead of argument\".format(alias))\n"
     ]
    },
    {
     "name": "stdout",
     "output_type": "stream",
     "text": [
      "Training until validation scores don't improve for 2 rounds\n",
      "[300]\ttrain's auc: 0.965546\tvalid's auc: 0.954887\n",
      "[600]\ttrain's auc: 0.985086\tvalid's auc: 0.973144\n",
      "[900]\ttrain's auc: 0.992562\tvalid's auc: 0.981929\n",
      "Early stopping, best iteration is:\n",
      "[1048]\ttrain's auc: 0.994349\tvalid's auc: 0.984617\n"
     ]
    },
    {
     "name": "stderr",
     "output_type": "stream",
     "text": [
      "C:\\ProgramData\\Anaconda3\\lib\\site-packages\\lightgbm\\engine.py:148: UserWarning: Found `num_iterations` in params. Will use it instead of argument\n",
      "  warnings.warn(\"Found `{}` in params. Will use it instead of argument\".format(alias))\n"
     ]
    },
    {
     "name": "stdout",
     "output_type": "stream",
     "text": [
      "Training until validation scores don't improve for 2 rounds\n",
      "[300]\ttrain's auc: 0.967068\tvalid's auc: 0.956399\n",
      "[600]\ttrain's auc: 0.986066\tvalid's auc: 0.974364\n",
      "[900]\ttrain's auc: 0.993163\tvalid's auc: 0.983286\n",
      "Early stopping, best iteration is:\n",
      "[1182]\ttrain's auc: 0.99577\tvalid's auc: 0.987746\n"
     ]
    },
    {
     "name": "stderr",
     "output_type": "stream",
     "text": [
      "C:\\ProgramData\\Anaconda3\\lib\\site-packages\\lightgbm\\engine.py:148: UserWarning: Found `num_iterations` in params. Will use it instead of argument\n",
      "  warnings.warn(\"Found `{}` in params. Will use it instead of argument\".format(alias))\n"
     ]
    },
    {
     "name": "stdout",
     "output_type": "stream",
     "text": [
      "Training until validation scores don't improve for 2 rounds\n",
      "[300]\ttrain's auc: 0.967031\tvalid's auc: 0.955846\n",
      "[600]\ttrain's auc: 0.986358\tvalid's auc: 0.974273\n",
      "[900]\ttrain's auc: 0.99338\tvalid's auc: 0.982866\n",
      "Early stopping, best iteration is:\n",
      "[1008]\ttrain's auc: 0.994752\tvalid's auc: 0.985088\n"
     ]
    },
    {
     "name": "stderr",
     "output_type": "stream",
     "text": [
      "C:\\ProgramData\\Anaconda3\\lib\\site-packages\\lightgbm\\engine.py:148: UserWarning: Found `num_iterations` in params. Will use it instead of argument\n",
      "  warnings.warn(\"Found `{}` in params. Will use it instead of argument\".format(alias))\n"
     ]
    },
    {
     "name": "stdout",
     "output_type": "stream",
     "text": [
      "Training until validation scores don't improve for 2 rounds\n",
      "[300]\ttrain's auc: 0.967542\tvalid's auc: 0.956453\n",
      "[600]\ttrain's auc: 0.986542\tvalid's auc: 0.974713\n",
      "[900]\ttrain's auc: 0.99331\tvalid's auc: 0.983394\n",
      "Early stopping, best iteration is:\n",
      "[1009]\ttrain's auc: 0.994629\tvalid's auc: 0.98545\n"
     ]
    },
    {
     "name": "stderr",
     "output_type": "stream",
     "text": [
      "C:\\ProgramData\\Anaconda3\\lib\\site-packages\\lightgbm\\engine.py:148: UserWarning: Found `num_iterations` in params. Will use it instead of argument\n",
      "  warnings.warn(\"Found `{}` in params. Will use it instead of argument\".format(alias))\n"
     ]
    },
    {
     "name": "stdout",
     "output_type": "stream",
     "text": [
      "Training until validation scores don't improve for 2 rounds\n",
      "[300]\ttrain's auc: 0.96636\tvalid's auc: 0.955836\n",
      "[600]\ttrain's auc: 0.985384\tvalid's auc: 0.973731\n",
      "[900]\ttrain's auc: 0.992532\tvalid's auc: 0.982161\n",
      "Early stopping, best iteration is:\n",
      "[1139]\ttrain's auc: 0.995117\tvalid's auc: 0.986228\n"
     ]
    },
    {
     "name": "stderr",
     "output_type": "stream",
     "text": [
      "C:\\ProgramData\\Anaconda3\\lib\\site-packages\\lightgbm\\engine.py:148: UserWarning: Found `num_iterations` in params. Will use it instead of argument\n",
      "  warnings.warn(\"Found `{}` in params. Will use it instead of argument\".format(alias))\n"
     ]
    },
    {
     "name": "stdout",
     "output_type": "stream",
     "text": [
      "Training until validation scores don't improve for 2 rounds\n",
      "[300]\ttrain's auc: 0.966362\tvalid's auc: 0.955434\n",
      "[600]\ttrain's auc: 0.985701\tvalid's auc: 0.973657\n",
      "[900]\ttrain's auc: 0.993046\tvalid's auc: 0.982594\n",
      "Early stopping, best iteration is:\n",
      "[1135]\ttrain's auc: 0.995516\tvalid's auc: 0.986462\n"
     ]
    },
    {
     "name": "stderr",
     "output_type": "stream",
     "text": [
      "C:\\ProgramData\\Anaconda3\\lib\\site-packages\\lightgbm\\engine.py:148: UserWarning: Found `num_iterations` in params. Will use it instead of argument\n",
      "  warnings.warn(\"Found `{}` in params. Will use it instead of argument\".format(alias))\n"
     ]
    },
    {
     "name": "stdout",
     "output_type": "stream",
     "text": [
      "Training until validation scores don't improve for 2 rounds\n",
      "[300]\ttrain's auc: 0.966674\tvalid's auc: 0.955891\n",
      "[600]\ttrain's auc: 0.985572\tvalid's auc: 0.973692\n",
      "[900]\ttrain's auc: 0.993086\tvalid's auc: 0.98286\n",
      "Early stopping, best iteration is:\n",
      "[1095]\ttrain's auc: 0.995183\tvalid's auc: 0.986225\n"
     ]
    },
    {
     "name": "stderr",
     "output_type": "stream",
     "text": [
      "C:\\ProgramData\\Anaconda3\\lib\\site-packages\\lightgbm\\engine.py:148: UserWarning: Found `num_iterations` in params. Will use it instead of argument\n",
      "  warnings.warn(\"Found `{}` in params. Will use it instead of argument\".format(alias))\n"
     ]
    },
    {
     "name": "stdout",
     "output_type": "stream",
     "text": [
      "Training until validation scores don't improve for 2 rounds\n",
      "[300]\ttrain's auc: 0.965284\tvalid's auc: 0.954947\n",
      "[600]\ttrain's auc: 0.984136\tvalid's auc: 0.972341\n",
      "[900]\ttrain's auc: 0.991958\tvalid's auc: 0.981334\n",
      "[1200]\ttrain's auc: 0.995206\tvalid's auc: 0.986312\n",
      "Did not meet early stopping. Best iteration is:\n",
      "[1200]\ttrain's auc: 0.995206\tvalid's auc: 0.986312\n"
     ]
    },
    {
     "name": "stderr",
     "output_type": "stream",
     "text": [
      "C:\\ProgramData\\Anaconda3\\lib\\site-packages\\lightgbm\\engine.py:148: UserWarning: Found `num_iterations` in params. Will use it instead of argument\n",
      "  warnings.warn(\"Found `{}` in params. Will use it instead of argument\".format(alias))\n"
     ]
    },
    {
     "name": "stdout",
     "output_type": "stream",
     "text": [
      "Training until validation scores don't improve for 2 rounds\n",
      "[300]\ttrain's auc: 0.965341\tvalid's auc: 0.954542\n",
      "[600]\ttrain's auc: 0.984841\tvalid's auc: 0.972466\n",
      "[900]\ttrain's auc: 0.992517\tvalid's auc: 0.981594\n",
      "Early stopping, best iteration is:\n",
      "[969]\ttrain's auc: 0.993487\tvalid's auc: 0.983034\n"
     ]
    },
    {
     "name": "stderr",
     "output_type": "stream",
     "text": [
      "C:\\ProgramData\\Anaconda3\\lib\\site-packages\\lightgbm\\engine.py:148: UserWarning: Found `num_iterations` in params. Will use it instead of argument\n",
      "  warnings.warn(\"Found `{}` in params. Will use it instead of argument\".format(alias))\n"
     ]
    },
    {
     "name": "stdout",
     "output_type": "stream",
     "text": [
      "Training until validation scores don't improve for 2 rounds\n",
      "[300]\ttrain's auc: 0.965616\tvalid's auc: 0.955301\n",
      "[600]\ttrain's auc: 0.984692\tvalid's auc: 0.973133\n",
      "[900]\ttrain's auc: 0.992408\tvalid's auc: 0.982222\n",
      "Early stopping, best iteration is:\n",
      "[1170]\ttrain's auc: 0.995417\tvalid's auc: 0.98693\n"
     ]
    },
    {
     "name": "stderr",
     "output_type": "stream",
     "text": [
      "[Parallel(n_jobs=1)]: Done  27 out of  27 | elapsed: 10.8min finished\n",
      "C:\\ProgramData\\Anaconda3\\lib\\site-packages\\lightgbm\\engine.py:148: UserWarning: Found `num_iterations` in params. Will use it instead of argument\n",
      "  warnings.warn(\"Found `{}` in params. Will use it instead of argument\".format(alias))\n"
     ]
    },
    {
     "name": "stdout",
     "output_type": "stream",
     "text": [
      "Training until validation scores don't improve for 2 rounds\n",
      "[300]\ttrain's auc: 0.969652\tvalid's auc: 0.958185\n",
      "[600]\ttrain's auc: 0.989107\tvalid's auc: 0.97649\n",
      "[900]\ttrain's auc: 0.996451\tvalid's auc: 0.985671\n",
      "Early stopping, best iteration is:\n",
      "[1157]\ttrain's auc: 0.998739\tvalid's auc: 0.98978\n",
      "Best score reached: 0.989471950269299 with params: {'max_depth': 13, 'max_bin': 1000} \n",
      "Wall time: 11min 16s\n"
     ]
    }
   ],
   "source": [
    "%%time\n",
    "gs4.fit(X_train, y_train, **fit_params)\n",
    "print('Best score reached: {} with params: {} '.format(gs3.best_score_, gs3.best_params_))"
   ]
  },
  {
   "cell_type": "code",
   "execution_count": 54,
   "metadata": {},
   "outputs": [
    {
     "data": {
      "text/plain": [
       "({'reg_lambda': 20, 'reg_alpha': 0.1}, 0.9871681287343794)"
      ]
     },
     "execution_count": 54,
     "metadata": {},
     "output_type": "execute_result"
    }
   ],
   "source": [
    "gs4.best_params_, gs4.best_score_"
   ]
  },
  {
   "cell_type": "markdown",
   "metadata": {},
   "source": [
    "## Final Model"
   ]
  },
  {
   "cell_type": "markdown",
   "metadata": {},
   "source": [
    "#### Finalizing the LightGBM model with calculated parameters from previous results such as 'num_leaves' and 'sub_sample' etc."
   ]
  },
  {
   "cell_type": "code",
   "execution_count": 55,
   "metadata": {},
   "outputs": [],
   "source": [
    "params_final = {\n",
    " 'bagging_fraction': 0.4,\n",
    " 'boosting': 'dart',\n",
    " 'num_iterations': 1200, \n",
    " 'learning_rate': 0.08,\n",
    " 'colsample_bytree': 0.5,\n",
    " 'cat_smooth': 32, \n",
    " 'max_cat_threshold':75, \n",
    " 'min_data_per_group': 82,\n",
    " 'max_bin': 800,\n",
    " 'max_depth': 13,\n",
    " 'num_leaves': 8190,\n",
    " 'min_child_samples': 407,\n",
    " 'min_child_weight': 0.1,\n",
    " 'min_data_in_leaf': 2420,\n",
    " 'reg_alpha': 0.1,\n",
    " 'reg_lambda': 15,\n",
    " 'scale_pos_weight': 3,\n",
    " 'subsample': 0.734,\n",
    " 'subsample_for_bin': 512,\n",
    " 'scoring': 'roc_auc',\n",
    " 'metric': 'auc',\n",
    " 'objective': 'binary'}"
   ]
  },
  {
   "cell_type": "code",
   "execution_count": 56,
   "metadata": {},
   "outputs": [],
   "source": [
    "lgbm_train2 = lgb.Dataset(X_train, y_train, categorical_feature=category)\n",
    "# lgbm_test = lgbm.Dataset(X_test, y_test, categorical_feature=cat_cols)\n",
    "lgbm_val2 = lgb.Dataset(X_test, y_test, reference = lgbm_train2)"
   ]
  },
  {
   "cell_type": "code",
   "execution_count": 57,
   "metadata": {},
   "outputs": [
    {
     "name": "stderr",
     "output_type": "stream",
     "text": [
      "C:\\ProgramData\\Anaconda3\\lib\\site-packages\\lightgbm\\basic.py:1295: UserWarning: categorical_feature in Dataset is overridden.\n",
      "New categorical_feature is [182]\n",
      "  'New categorical_feature is {}'.format(sorted(list(categorical_feature))))\n"
     ]
    },
    {
     "name": "stdout",
     "output_type": "stream",
     "text": [
      "[100]\ttraining's auc: 0.909621\tvalid_1's auc: 0.906936\n",
      "[200]\ttraining's auc: 0.920641\tvalid_1's auc: 0.916543\n",
      "[300]\ttraining's auc: 0.931114\tvalid_1's auc: 0.925878\n",
      "[400]\ttraining's auc: 0.938745\tvalid_1's auc: 0.932354\n",
      "[500]\ttraining's auc: 0.94607\tvalid_1's auc: 0.938683\n",
      "[600]\ttraining's auc: 0.950091\tvalid_1's auc: 0.942345\n",
      "[700]\ttraining's auc: 0.954464\tvalid_1's auc: 0.946153\n",
      "[800]\ttraining's auc: 0.957595\tvalid_1's auc: 0.949012\n",
      "[900]\ttraining's auc: 0.96146\tvalid_1's auc: 0.952468\n",
      "[1000]\ttraining's auc: 0.964441\tvalid_1's auc: 0.95511\n",
      "[1100]\ttraining's auc: 0.96717\tvalid_1's auc: 0.957576\n",
      "[1200]\ttraining's auc: 0.968976\tvalid_1's auc: 0.959168\n"
     ]
    }
   ],
   "source": [
    "evals_result = {}  # to record eval results for plotting\n",
    "model_lgbm_2 = lgb.train(params_final,\n",
    "                lgbm_train2,\n",
    "                num_boost_round=250,\n",
    "                valid_sets=[lgbm_train2, lgbm_val2],\n",
    "                feature_name=['f' + str(i + 1) for i in range(X_train.shape[-1])],\n",
    "                categorical_feature= [182],\n",
    "                evals_result=evals_result,\n",
    "                verbose_eval=100)"
   ]
  },
  {
   "cell_type": "code",
   "execution_count": 58,
   "metadata": {},
   "outputs": [],
   "source": [
    "y_pred = model_lgbm_2.predict(test[X_train.columns])\n",
    "newdata = pd.DataFrame({'encounter_id': test['encounter_id'],'hospital_death':y_pred})\n",
    "newdata.to_csv('submissionLG.csv', index=False)"
   ]
  },
  {
   "cell_type": "markdown",
   "metadata": {},
   "source": [
    "## Final AUC: 0.90721 after submission."
   ]
  }
 ],
 "metadata": {
  "kernelspec": {
   "display_name": "Python 3",
   "language": "python",
   "name": "python3"
  },
  "language_info": {
   "codemirror_mode": {
    "name": "ipython",
    "version": 3
   },
   "file_extension": ".py",
   "mimetype": "text/x-python",
   "name": "python",
   "nbconvert_exporter": "python",
   "pygments_lexer": "ipython3",
   "version": "3.7.3"
  }
 },
 "nbformat": 4,
 "nbformat_minor": 1
}
